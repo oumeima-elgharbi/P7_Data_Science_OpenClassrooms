{
 "cells": [
  {
   "cell_type": "code",
   "execution_count": 1,
   "metadata": {
    "collapsed": true,
    "pycharm": {
     "name": "#%%\n"
    }
   },
   "outputs": [],
   "source": [
    "import pandas as pd\n",
    "import streamlit as st"
   ]
  },
  {
   "cell_type": "code",
   "execution_count": 2,
   "outputs": [],
   "source": [
    "data = pd.read_csv(r\"C:\\Users\\oumei\\Documents\\OC_projets\\P7\\P7_Data_Science_OpenClassrooms\\frontend\\resources\\data_train_preprocessed_vf.csv.gz\")"
   ],
   "metadata": {
    "collapsed": false,
    "pycharm": {
     "name": "#%%\n"
    }
   }
  },
  {
   "cell_type": "code",
   "execution_count": null,
   "outputs": [],
   "source": [
    "import joblib\n",
    "import numpy as np\n",
    "from frontend.functions_dashboard import *\n",
    "from frontend.functions_1 import *\n",
    "\n",
    "\n",
    "def lineplot_in_common(data_all_clients, feature, y_label='TARGET'):\n",
    "    \"\"\"Line plot of a quantitative feature. Common to all clients.\n",
    "    Plot smoothed over 4000 clients. One dot plotted every 1000 clients.\n",
    "    Args :\n",
    "    - feature (string).\n",
    "    Returns :\n",
    "    - matplotlib figure.\n",
    "    \"\"\"\n",
    "    target_bin_size = 4000\n",
    "\n",
    "    # preparation of data\n",
    "    df = data_all_clients.copy()\n",
    "\n",
    "    df = df.dropna().sort_values(axis=0, by=feature).copy()\n",
    "    n_values = len(df)\n",
    "    n_bins = int(np.ceil(n_values / target_bin_size))\n",
    "    bin_size = int(np.floor(n_values / n_bins))\n",
    "    index_bin_start = [bin_size * n for n in range(n_bins)] + [int(bin_size * (n + 0.25)) for n in range(n_bins)]\n",
    "                      + [int(bin_size * (n + 0.5)) for n in range(n_bins)] +\n",
    "                      [int(bin_size * (n + 0.75)) for n in range(n_bins)]\n",
    "    index_bin_start = sorted(index_bin_start)\n",
    "\n",
    "    # Observed probability of default for every bins\n",
    "    proba_default = []\n",
    "    feature_value_start = []\n",
    "    for i in index_bin_start[2:-2]:\n",
    "        some_bin = df.iloc[int(i - 0.5 * bin_size):int(i + 0.5 * bin_size)]\n",
    "        some_bin_sum0 = (some_bin[y_label] == 0).sum()\n",
    "        some_bin_sum1 = (some_bin[y_label] == 1).sum()\n",
    "        some_bin_sum = some_bin_sum0 + some_bin_sum1\n",
    "        proba_default_ = some_bin_sum1 / some_bin_sum\n",
    "        proba_default.append(proba_default_)\n",
    "        feature_value_start.append(df[feature].iloc[i])\n",
    "\n",
    "    # Plotting\n",
    "    plt.style.use('seaborn')\n",
    "    fig = plt.figure(edgecolor='black', linewidth=4)\n",
    "    plt.plot(feature_value_start, proba_default, color='k')\n",
    "    ylim_high = plt.ylim()[1]\n",
    "    plt.fill_between(x=feature_value_start, y1=proba_default, y2=0, color='r')\n",
    "    plt.fill_between(x=feature_value_start,\n",
    "                     y1=proba_default,\n",
    "                     y2=1,\n",
    "                     color='limegreen')\n",
    "    plt.ylabel('Observed probability of default')\n",
    "    plt.xlabel(feature)\n",
    "    fig.suptitle(f'Observed probability of default as a function of {feature}',\n",
    "                 y=0.92)\n",
    "    plt.ylim(0, max(ylim_high, 0.3))\n",
    "    return fig\n",
    "\n",
    "\n"
   ],
   "metadata": {
    "collapsed": false,
    "pycharm": {
     "name": "#%%\n"
    }
   }
  },
  {
   "cell_type": "code",
   "execution_count": null,
   "outputs": [],
   "source": [
    "\n",
    "def lineplot(data_all_clients, client_df, client_id, threshold, feature, df_description):\n",
    "    \"\"\"Plots a lineplot of the quantitative feature.\n",
    "    Args :\n",
    "    - feature (string).\n",
    "    Returns :\n",
    "    - matplotlib plot via st.pyplot.\n",
    "    \"\"\"\n",
    "    # if feature in [\n",
    "    #    'EXT_SOURCE_2', 'EXT_SOURCE_3', 'EXT_SOURCE_1', 'AMT_ANNUITY'\n",
    "    # ]:\n",
    "    #    figure = joblib.load('./resources/figure_lineplot_' + feature +\n",
    "    #                         '_for_bankclerk.joblib')\n",
    "    # else:\n",
    "    # figure = lineplot_in_common(feature)\n",
    "    figure = lineplot_in_common(data_all_clients, feature)\n",
    "    y_max = plt.ylim()[1]\n",
    "    x_client = client_df[feature].iloc[0]\n",
    "    if str(x_client) == \"nan\":\n",
    "        x_center = (plt.xlim()[1] + plt.xlim()[0]) / 2\n",
    "        plt.annotate(text=f\" Client {client_id}\\n  data not available\",\n",
    "                     xy=(x_center, 0),\n",
    "                     xytext=(x_center, y_max * 0.9))\n",
    "    else:\n",
    "        plt.axvline(x=x_client,\n",
    "                    ymin=-1e10,\n",
    "                    ymax=1e10,\n",
    "                    c='k',\n",
    "                    ls='dashed',\n",
    "                    lw=2)\n",
    "        plt.axhline(y=threshold,\n",
    "                    xmin=-1e10,\n",
    "                    xmax=1e10,\n",
    "                    c='darkorange',\n",
    "                    ls='dashed',\n",
    "                    lw=1)  # line for the optimum_threshold\n",
    "        plt.annotate(text=f\" Client {client_id}\\n  {round(x_client, 3)}\",\n",
    "                     xy=(x_client, y_max * 0.9))\n",
    "    st.pyplot(figure)\n",
    "    st.caption(feature + \": \" + feature_description(feature, df_description))"
   ],
   "metadata": {
    "collapsed": false,
    "pycharm": {
     "name": "#%%\n"
    }
   }
  }
 ],
 "metadata": {
  "kernelspec": {
   "display_name": "Python 3",
   "language": "python",
   "name": "python3"
  },
  "language_info": {
   "codemirror_mode": {
    "name": "ipython",
    "version": 2
   },
   "file_extension": ".py",
   "mimetype": "text/x-python",
   "name": "python",
   "nbconvert_exporter": "python",
   "pygments_lexer": "ipython2",
   "version": "2.7.6"
  }
 },
 "nbformat": 4,
 "nbformat_minor": 0
}