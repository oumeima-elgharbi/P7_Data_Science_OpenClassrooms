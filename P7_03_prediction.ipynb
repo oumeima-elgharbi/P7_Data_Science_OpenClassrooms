{
 "cells": [
  {
   "cell_type": "markdown",
   "source": [
    "- OpenClassrooms Project 7, Data Scientist\n",
    "- Author : Oumeima EL GHARBI\n",
    "- Date : November, December 2022"
   ],
   "metadata": {
    "collapsed": false,
    "pycharm": {
     "name": "#%% md\n"
    }
   }
  },
  {
   "cell_type": "markdown",
   "source": [
    "### Importing libraries"
   ],
   "metadata": {
    "collapsed": false,
    "pycharm": {
     "name": "#%% md\n"
    }
   }
  },
  {
   "cell_type": "code",
   "execution_count": 1,
   "outputs": [
    {
     "data": {
      "application/javascript": "IPython.notebook.set_autosave_interval(300000)"
     },
     "metadata": {},
     "output_type": "display_data"
    },
    {
     "name": "stdout",
     "output_type": "stream",
     "text": [
      "Autosaving every 300 seconds\n"
     ]
    }
   ],
   "source": [
    "%reset -f\n",
    "\n",
    "import warnings\n",
    "warnings.filterwarnings(action=\"ignore\")\n",
    "\n",
    "# to compute time of pipeline\n",
    "from time import time, strftime, gmtime\n",
    "\n",
    "import pandas as pd\n",
    "from os import listdir\n",
    "from os.path import isfile, join\n",
    "\n",
    "import joblib\n",
    "import matplotlib.pyplot as plt\n",
    "import seaborn as sns\n",
    "from evaluation_metrics import *\n",
    "\n",
    "%matplotlib inline\n",
    "%autosave 300"
   ],
   "metadata": {
    "collapsed": false,
    "pycharm": {
     "name": "#%%\n"
    }
   }
  },
  {
   "cell_type": "code",
   "execution_count": 2,
   "outputs": [
    {
     "name": "stdout",
     "output_type": "stream",
     "text": [
      "Python version 3.9.7\n"
     ]
    }
   ],
   "source": [
    "import sys\n",
    "print(\"Python version {}.{}.{}\".format(str(sys.version_info[0]), str(sys.version_info[1]), str(sys.version_info[2])))"
   ],
   "metadata": {
    "collapsed": false,
    "pycharm": {
     "name": "#%%\n"
    }
   }
  },
  {
   "cell_type": "code",
   "execution_count": 3,
   "outputs": [],
   "source": [
    "# Starting time\n",
    "t0 = time()\n",
    "\n",
    "input_path = \"./dataset/cleaned/\"\n",
    "output_path = \"./dataset/cleaned/\""
   ],
   "metadata": {
    "collapsed": false,
    "pycharm": {
     "name": "#%%\n"
    }
   }
  },
  {
   "cell_type": "markdown",
   "source": [
    "## Part III : Prediction"
   ],
   "metadata": {
    "collapsed": false,
    "pycharm": {
     "name": "#%% md\n"
    }
   }
  },
  {
   "cell_type": "markdown",
   "source": [
    "#### Loading dataset"
   ],
   "metadata": {
    "collapsed": false,
    "pycharm": {
     "name": "#%% md\n"
    }
   }
  },
  {
   "cell_type": "code",
   "execution_count": 4,
   "outputs": [],
   "source": [
    "train_file = input_path + \"train.csv\"\n",
    "val_file = input_path + \"val.csv\"\n",
    "\n",
    "train = pd.read_csv(train_file, sep=\",\")\n",
    "val = pd.read_csv(val_file, sep=\",\")\n",
    "\n",
    "target = \"TARGET\"\n",
    "\n",
    "#X_train = train.loc[:, train.columns != 'TARGET'].iloc[:, 1:]\n",
    "#X_val = val.loc[:, val.columns != 'TARGET'].iloc[:, 1:] # all rows, not target and removes SK_ID_CURR the PK\n",
    "\n",
    "# all rows, not target and removes SK_ID_CURR the PK\n",
    "features = [f for f in train.columns if f not in ['TARGET','SK_ID_CURR']] # ,'SK_ID_BUREAU','SK_ID_PREV','index' / deleted\n",
    "X_train = train[features]\n",
    "X_val = val[features]\n",
    "\n",
    "y_train = train[target]\n",
    "y_val = val[target]"
   ],
   "metadata": {
    "collapsed": false,
    "pycharm": {
     "name": "#%%\n"
    }
   }
  },
  {
   "cell_type": "code",
   "execution_count": 4,
   "outputs": [],
   "source": [],
   "metadata": {
    "collapsed": false,
    "pycharm": {
     "name": "#%%\n"
    }
   }
  },
  {
   "cell_type": "code",
   "execution_count": 5,
   "outputs": [
    {
     "name": "stdout",
     "output_type": "stream",
     "text": [
      "The shape of the training matrix : (215254, 777) and this is the shape of the target vector : (215254,)\n",
      "The shape of the test matrix : (92253, 777) and this is the shape of the target vector : (92253,)\n"
     ]
    }
   ],
   "source": [
    "print(\"The shape of the training matrix :\", X_train.shape, \"and this is the shape of the target vector :\", y_train.shape)\n",
    "print(\"The shape of the test matrix :\", X_val.shape, \"and this is the shape of the target vector :\", y_val.shape)"
   ],
   "metadata": {
    "collapsed": false,
    "pycharm": {
     "name": "#%%\n"
    }
   }
  },
  {
   "cell_type": "markdown",
   "source": [
    "#### Baseline : DummyClassifier"
   ],
   "metadata": {
    "collapsed": false,
    "pycharm": {
     "name": "#%% md\n"
    }
   }
  },
  {
   "cell_type": "code",
   "execution_count": 6,
   "outputs": [
    {
     "name": "stdout",
     "output_type": "stream",
     "text": [
      "Saving model with joblib\n"
     ]
    }
   ],
   "source": [
    "from sklearn.dummy import DummyClassifier\n",
    "dummy_clf = DummyClassifier(strategy=\"most_frequent\")\n",
    "dummy_clf.fit(X_train, y_train)\n",
    "\n",
    "# save the model to disk\n",
    "print(\"Saving model with joblib\")\n",
    "filename_joblib = 'models/Dummy.joblib'\n",
    "joblib.dump(dummy_clf, filename_joblib)\n",
    "\n",
    "y_pred = dummy_clf.predict(X_val)"
   ],
   "metadata": {
    "collapsed": false,
    "pycharm": {
     "name": "#%%\n"
    }
   }
  },
  {
   "cell_type": "code",
   "execution_count": 7,
   "outputs": [
    {
     "name": "stdout",
     "output_type": "stream",
     "text": [
      "              precision    recall  f1-score   support\n",
      "\n",
      "           0       0.92      1.00      0.96     84811\n",
      "           1       0.00      0.00      0.00      7442\n",
      "\n",
      "    accuracy                           0.92     92253\n",
      "   macro avg       0.46      0.50      0.48     92253\n",
      "weighted avg       0.85      0.92      0.88     92253\n",
      "\n",
      "ROC-AUC 0.5\n"
     ]
    },
    {
     "data": {
      "text/plain": "<Figure size 432x288 with 2 Axes>",
      "image/png": "[encoded data removed]"
     },
     "metadata": {
      "needs_background": "light"
     },
     "output_type": "display_data"
    },
    {
     "data": {
      "text/plain": "<Figure size 432x288 with 1 Axes>",
      "image/png": "[encoded data removed]"
     },
     "metadata": {
      "needs_background": "light"
     },
     "output_type": "display_data"
    },
    {
     "data": {
      "text/plain": "<Figure size 432x288 with 1 Axes>",
      "image/png": "[encoded data removed]"
     },
     "metadata": {
      "needs_background": "light"
     },
     "output_type": "display_data"
    }
   ],
   "source": [
    "evaluate_classification(y_val, y_pred, y_pred_proba=y_pred)"
   ],
   "metadata": {
    "collapsed": false,
    "pycharm": {
     "name": "#%%\n"
    }
   }
  },
  {
   "cell_type": "code",
   "execution_count": 8,
   "outputs": [
    {
     "name": "stdout",
     "output_type": "stream",
     "text": [
      "Prediction for :  TARGET\n"
     ]
    },
    {
     "data": {
      "text/plain": "   Model  ROC-AUC  Precision  Recall  F1-score  F1-score weighted  Accuracy\n0  Dummy      0.5        0.0     0.0       0.0              0.881     0.919",
      "text/html": "<div>\n<style scoped>\n    .dataframe tbody tr th:only-of-type {\n        vertical-align: middle;\n    }\n\n    .dataframe tbody tr th {\n        vertical-align: top;\n    }\n\n    .dataframe thead th {\n        text-align: right;\n    }\n</style>\n<table border=\"1\" class=\"dataframe\">\n  <thead>\n    <tr style=\"text-align: right;\">\n      <th></th>\n      <th>Model</th>\n      <th>ROC-AUC</th>\n      <th>Precision</th>\n      <th>Recall</th>\n      <th>F1-score</th>\n      <th>F1-score weighted</th>\n      <th>Accuracy</th>\n    </tr>\n  </thead>\n  <tbody>\n    <tr>\n      <th>0</th>\n      <td>Dummy</td>\n      <td>0.5</td>\n      <td>0.0</td>\n      <td>0.0</td>\n      <td>0.0</td>\n      <td>0.881</td>\n      <td>0.919</td>\n    </tr>\n  </tbody>\n</table>\n</div>"
     },
     "metadata": {},
     "output_type": "display_data"
    }
   ],
   "source": [
    "results = evaluate_models(\"Dummy\", results, y_val, y_pred)"
   ],
   "metadata": {
    "collapsed": false,
    "pycharm": {
     "name": "#%%\n"
    }
   }
  },
  {
   "cell_type": "markdown",
   "source": [
    "#### Hist Boost ** rename"
   ],
   "metadata": {
    "collapsed": false,
    "pycharm": {
     "name": "#%% md\n"
    }
   }
  },
  {
   "cell_type": "code",
   "execution_count": 9,
   "outputs": [
    {
     "name": "stdout",
     "output_type": "stream",
     "text": [
      "Saving model with joblib\n"
     ]
    },
    {
     "data": {
      "text/plain": "['models/HistBoost.joblib']"
     },
     "execution_count": 9,
     "metadata": {},
     "output_type": "execute_result"
    }
   ],
   "source": [
    "from sklearn.ensemble import HistGradientBoostingClassifier\n",
    "estimator = HistGradientBoostingClassifier()\n",
    "estimator.fit(X_train, y_train)\n",
    "\n",
    "# save the model to disk\n",
    "print(\"Saving model with joblib\")\n",
    "filename_joblib = 'models/HistBoost.joblib'\n",
    "joblib.dump(estimator, filename_joblib)"
   ],
   "metadata": {
    "collapsed": false,
    "pycharm": {
     "name": "#%%\n"
    }
   }
  },
  {
   "cell_type": "code",
   "execution_count": 10,
   "outputs": [],
   "source": [
    "y_pred = estimator.predict(X_val)"
   ],
   "metadata": {
    "collapsed": false,
    "pycharm": {
     "name": "#%%\n"
    }
   }
  },
  {
   "cell_type": "code",
   "execution_count": 11,
   "outputs": [],
   "source": [
    "y_pred_proba = estimator.predict_proba(X_val)[:, 1]"
   ],
   "metadata": {
    "collapsed": false,
    "pycharm": {
     "name": "#%%\n"
    }
   }
  },
  {
   "cell_type": "code",
   "execution_count": 12,
   "outputs": [
    {
     "data": {
      "text/plain": "array([0.18209269, 0.01114468, 0.13057951, ..., 0.03926476, 0.09137202,\n       0.06307749])"
     },
     "execution_count": 12,
     "metadata": {},
     "output_type": "execute_result"
    }
   ],
   "source": [
    "y_pred_proba"
   ],
   "metadata": {
    "collapsed": false,
    "pycharm": {
     "name": "#%%\n"
    }
   }
  },
  {
   "cell_type": "code",
   "execution_count": 13,
   "outputs": [
    {
     "name": "stdout",
     "output_type": "stream",
     "text": [
      "              precision    recall  f1-score   support\n",
      "\n",
      "           0       0.92      1.00      0.96     84811\n",
      "           1       0.57      0.04      0.07      7442\n",
      "\n",
      "    accuracy                           0.92     92253\n",
      "   macro avg       0.75      0.52      0.52     92253\n",
      "weighted avg       0.89      0.92      0.89     92253\n",
      "\n",
      "ROC-AUC 0.518\n"
     ]
    },
    {
     "data": {
      "text/plain": "<Figure size 432x288 with 2 Axes>",
      "image/png": "[encoded data removed]"
     },
     "metadata": {
      "needs_background": "light"
     },
     "output_type": "display_data"
    },
    {
     "data": {
      "text/plain": "<Figure size 432x288 with 1 Axes>",
      "image/png": "[encoded data removed]"
     },
     "metadata": {
      "needs_background": "light"
     },
     "output_type": "display_data"
    },
    {
     "data": {
      "text/plain": "<Figure size 432x288 with 1 Axes>",
      "image/png": "[encoded data removed]"
     },
     "metadata": {
      "needs_background": "light"
     },
     "output_type": "display_data"
    }
   ],
   "source": [
    "evaluate_classification(y_val, y_pred, y_pred_proba=y_pred_proba)"
   ],
   "metadata": {
    "collapsed": false,
    "pycharm": {
     "name": "#%%\n"
    }
   }
  },
  {
   "cell_type": "code",
   "execution_count": 14,
   "outputs": [
    {
     "name": "stdout",
     "output_type": "stream",
     "text": [
      "Prediction for :  TARGET\n"
     ]
    },
    {
     "data": {
      "text/plain": "       Model  ROC-AUC  Precision  Recall  F1-score  F1-score weighted  \\\n0  HistBoost    0.518      0.573   0.039     0.073              0.887   \n0      Dummy    0.500      0.000   0.000     0.000              0.881   \n\n   Accuracy  \n0     0.920  \n0     0.919  ",
      "text/html": "<div>\n<style scoped>\n    .dataframe tbody tr th:only-of-type {\n        vertical-align: middle;\n    }\n\n    .dataframe tbody tr th {\n        vertical-align: top;\n    }\n\n    .dataframe thead th {\n        text-align: right;\n    }\n</style>\n<table border=\"1\" class=\"dataframe\">\n  <thead>\n    <tr style=\"text-align: right;\">\n      <th></th>\n      <th>Model</th>\n      <th>ROC-AUC</th>\n      <th>Precision</th>\n      <th>Recall</th>\n      <th>F1-score</th>\n      <th>F1-score weighted</th>\n      <th>Accuracy</th>\n    </tr>\n  </thead>\n  <tbody>\n    <tr>\n      <th>0</th>\n      <td>HistBoost</td>\n      <td>0.518</td>\n      <td>0.573</td>\n      <td>0.039</td>\n      <td>0.073</td>\n      <td>0.887</td>\n      <td>0.920</td>\n    </tr>\n    <tr>\n      <th>0</th>\n      <td>Dummy</td>\n      <td>0.500</td>\n      <td>0.000</td>\n      <td>0.000</td>\n      <td>0.000</td>\n      <td>0.881</td>\n      <td>0.919</td>\n    </tr>\n  </tbody>\n</table>\n</div>"
     },
     "metadata": {},
     "output_type": "display_data"
    }
   ],
   "source": [
    "results = evaluate_models(\"HistBoost\", results, y_val, y_pred)"
   ],
   "metadata": {
    "collapsed": false,
    "pycharm": {
     "name": "#%%\n"
    }
   }
  },
  {
   "cell_type": "markdown",
   "source": [
    "#### Logistic Regression ? clean NaN + Std"
   ],
   "metadata": {
    "collapsed": false,
    "pycharm": {
     "name": "#%% md\n"
    }
   }
  },
  {
   "cell_type": "code",
   "execution_count": 15,
   "outputs": [],
   "source": [
    "from sklearn.linear_model import LogisticRegression\n",
    "estimator = LogisticRegression(solver=\"liblinear\")"
   ],
   "metadata": {
    "collapsed": false,
    "pycharm": {
     "name": "#%%\n"
    }
   }
  },
  {
   "cell_type": "markdown",
   "source": [
    "#### SVM ? clean NaN + Std and no infinity !!"
   ],
   "metadata": {
    "collapsed": false,
    "pycharm": {
     "name": "#%% md\n"
    }
   }
  },
  {
   "cell_type": "code",
   "execution_count": 16,
   "outputs": [],
   "source": [
    "from sklearn.svm import SVC\n",
    "estimator = SVC(kernel='rbf') # by default"
   ],
   "metadata": {
    "collapsed": false,
    "pycharm": {
     "name": "#%%\n"
    }
   }
  },
  {
   "cell_type": "code",
   "execution_count": 17,
   "outputs": [],
   "source": [
    "from sklearn.pipeline import make_pipeline\n",
    "from sklearn.preprocessing import StandardScaler\n",
    "\n",
    "clf = make_pipeline(StandardScaler(), SVC(gamma='auto'))\n",
    "#clf.fit(X_train, y_train)"
   ],
   "metadata": {
    "collapsed": false,
    "pycharm": {
     "name": "#%%\n"
    }
   }
  },
  {
   "cell_type": "markdown",
   "source": [
    "#### LightGBM"
   ],
   "metadata": {
    "collapsed": false,
    "pycharm": {
     "name": "#%% md\n"
    }
   }
  },
  {
   "cell_type": "code",
   "execution_count": 18,
   "outputs": [
    {
     "name": "stdout",
     "output_type": "stream",
     "text": [
      "Training LGBM\n",
      "[LightGBM] [Warning] num_threads is set with n_jobs=-1, nthread=4 will be ignored. Current value: num_threads=-1\n",
      "Training until validation scores don't improve for 200 rounds\n",
      "[200]\ttraining's auc: 0.802201\ttraining's binary_logloss: 0.233877\tvalid_1's auc: 0.772589\tvalid_1's binary_logloss: 0.242068\n",
      "[400]\ttraining's auc: 0.827083\ttraining's binary_logloss: 0.223254\tvalid_1's auc: 0.782725\tvalid_1's binary_logloss: 0.238047\n",
      "[600]\ttraining's auc: 0.844301\ttraining's binary_logloss: 0.216111\tvalid_1's auc: 0.786126\tvalid_1's binary_logloss: 0.236819\n",
      "[800]\ttraining's auc: 0.858226\ttraining's binary_logloss: 0.210231\tvalid_1's auc: 0.7878\tvalid_1's binary_logloss: 0.236209\n",
      "[1000]\ttraining's auc: 0.86998\ttraining's binary_logloss: 0.205121\tvalid_1's auc: 0.788774\tvalid_1's binary_logloss: 0.235867\n",
      "[1200]\ttraining's auc: 0.880232\ttraining's binary_logloss: 0.200433\tvalid_1's auc: 0.789329\tvalid_1's binary_logloss: 0.235674\n",
      "[1400]\ttraining's auc: 0.889847\ttraining's binary_logloss: 0.195827\tvalid_1's auc: 0.789536\tvalid_1's binary_logloss: 0.23558\n"
     ]
    },
    {
     "ename": "KeyboardInterrupt",
     "evalue": "",
     "output_type": "error",
     "traceback": [
      "\u001B[1;31m---------------------------------------------------------------------------\u001B[0m",
      "\u001B[1;31mKeyboardInterrupt\u001B[0m                         Traceback (most recent call last)",
      "\u001B[1;32m~\\AppData\\Local\\Temp/ipykernel_22412/2450432539.py\u001B[0m in \u001B[0;36m<module>\u001B[1;34m\u001B[0m\n\u001B[0;32m     24\u001B[0m \u001B[1;33m\u001B[0m\u001B[0m\n\u001B[0;32m     25\u001B[0m \u001B[0mprint\u001B[0m\u001B[1;33m(\u001B[0m\u001B[1;34m\"Training LGBM\"\u001B[0m\u001B[1;33m)\u001B[0m\u001B[1;33m\u001B[0m\u001B[1;33m\u001B[0m\u001B[0m\n\u001B[1;32m---> 26\u001B[1;33m clf.fit(X_train, y_train, eval_set=[(X_train, y_train), (X_val, y_val)],\n\u001B[0m\u001B[0;32m     27\u001B[0m         eval_metric='auc', verbose=200, early_stopping_rounds=200)\n\u001B[0;32m     28\u001B[0m \u001B[1;33m\u001B[0m\u001B[0m\n",
      "\u001B[1;32mC:\\ProgramData\\Anaconda3\\lib\\site-packages\\lightgbm\\sklearn.py\u001B[0m in \u001B[0;36mfit\u001B[1;34m(self, X, y, sample_weight, init_score, eval_set, eval_names, eval_sample_weight, eval_class_weight, eval_init_score, eval_metric, early_stopping_rounds, verbose, feature_name, categorical_feature, callbacks, init_model)\u001B[0m\n\u001B[0;32m    888\u001B[0m                     \u001B[0mvalid_sets\u001B[0m\u001B[1;33m[\u001B[0m\u001B[0mi\u001B[0m\u001B[1;33m]\u001B[0m \u001B[1;33m=\u001B[0m \u001B[1;33m(\u001B[0m\u001B[0mvalid_x\u001B[0m\u001B[1;33m,\u001B[0m \u001B[0mself\u001B[0m\u001B[1;33m.\u001B[0m\u001B[0m_le\u001B[0m\u001B[1;33m.\u001B[0m\u001B[0mtransform\u001B[0m\u001B[1;33m(\u001B[0m\u001B[0mvalid_y\u001B[0m\u001B[1;33m)\u001B[0m\u001B[1;33m)\u001B[0m\u001B[1;33m\u001B[0m\u001B[1;33m\u001B[0m\u001B[0m\n\u001B[0;32m    889\u001B[0m \u001B[1;33m\u001B[0m\u001B[0m\n\u001B[1;32m--> 890\u001B[1;33m         super().fit(X, _y, sample_weight=sample_weight, init_score=init_score, eval_set=valid_sets,\n\u001B[0m\u001B[0;32m    891\u001B[0m                     \u001B[0meval_names\u001B[0m\u001B[1;33m=\u001B[0m\u001B[0meval_names\u001B[0m\u001B[1;33m,\u001B[0m \u001B[0meval_sample_weight\u001B[0m\u001B[1;33m=\u001B[0m\u001B[0meval_sample_weight\u001B[0m\u001B[1;33m,\u001B[0m\u001B[1;33m\u001B[0m\u001B[1;33m\u001B[0m\u001B[0m\n\u001B[0;32m    892\u001B[0m                     \u001B[0meval_class_weight\u001B[0m\u001B[1;33m=\u001B[0m\u001B[0meval_class_weight\u001B[0m\u001B[1;33m,\u001B[0m \u001B[0meval_init_score\u001B[0m\u001B[1;33m=\u001B[0m\u001B[0meval_init_score\u001B[0m\u001B[1;33m,\u001B[0m\u001B[1;33m\u001B[0m\u001B[1;33m\u001B[0m\u001B[0m\n",
      "\u001B[1;32mC:\\ProgramData\\Anaconda3\\lib\\site-packages\\lightgbm\\sklearn.py\u001B[0m in \u001B[0;36mfit\u001B[1;34m(self, X, y, sample_weight, init_score, group, eval_set, eval_names, eval_sample_weight, eval_class_weight, eval_init_score, eval_group, eval_metric, early_stopping_rounds, verbose, feature_name, categorical_feature, callbacks, init_model)\u001B[0m\n\u001B[0;32m    681\u001B[0m             \u001B[0minit_model\u001B[0m \u001B[1;33m=\u001B[0m \u001B[0minit_model\u001B[0m\u001B[1;33m.\u001B[0m\u001B[0mbooster_\u001B[0m\u001B[1;33m\u001B[0m\u001B[1;33m\u001B[0m\u001B[0m\n\u001B[0;32m    682\u001B[0m \u001B[1;33m\u001B[0m\u001B[0m\n\u001B[1;32m--> 683\u001B[1;33m         self._Booster = train(params, train_set,\n\u001B[0m\u001B[0;32m    684\u001B[0m                               \u001B[0mself\u001B[0m\u001B[1;33m.\u001B[0m\u001B[0mn_estimators\u001B[0m\u001B[1;33m,\u001B[0m \u001B[0mvalid_sets\u001B[0m\u001B[1;33m=\u001B[0m\u001B[0mvalid_sets\u001B[0m\u001B[1;33m,\u001B[0m \u001B[0mvalid_names\u001B[0m\u001B[1;33m=\u001B[0m\u001B[0meval_names\u001B[0m\u001B[1;33m,\u001B[0m\u001B[1;33m\u001B[0m\u001B[1;33m\u001B[0m\u001B[0m\n\u001B[0;32m    685\u001B[0m                               \u001B[0mearly_stopping_rounds\u001B[0m\u001B[1;33m=\u001B[0m\u001B[0mearly_stopping_rounds\u001B[0m\u001B[1;33m,\u001B[0m\u001B[1;33m\u001B[0m\u001B[1;33m\u001B[0m\u001B[0m\n",
      "\u001B[1;32mC:\\ProgramData\\Anaconda3\\lib\\site-packages\\lightgbm\\engine.py\u001B[0m in \u001B[0;36mtrain\u001B[1;34m(params, train_set, num_boost_round, valid_sets, valid_names, fobj, feval, init_model, feature_name, categorical_feature, early_stopping_rounds, evals_result, verbose_eval, learning_rates, keep_training_booster, callbacks)\u001B[0m\n\u001B[0;32m    247\u001B[0m                                     evaluation_result_list=None))\n\u001B[0;32m    248\u001B[0m \u001B[1;33m\u001B[0m\u001B[0m\n\u001B[1;32m--> 249\u001B[1;33m         \u001B[0mbooster\u001B[0m\u001B[1;33m.\u001B[0m\u001B[0mupdate\u001B[0m\u001B[1;33m(\u001B[0m\u001B[0mfobj\u001B[0m\u001B[1;33m=\u001B[0m\u001B[0mfobj\u001B[0m\u001B[1;33m)\u001B[0m\u001B[1;33m\u001B[0m\u001B[1;33m\u001B[0m\u001B[0m\n\u001B[0m\u001B[0;32m    250\u001B[0m \u001B[1;33m\u001B[0m\u001B[0m\n\u001B[0;32m    251\u001B[0m         \u001B[0mevaluation_result_list\u001B[0m \u001B[1;33m=\u001B[0m \u001B[1;33m[\u001B[0m\u001B[1;33m]\u001B[0m\u001B[1;33m\u001B[0m\u001B[1;33m\u001B[0m\u001B[0m\n",
      "\u001B[1;32mC:\\ProgramData\\Anaconda3\\lib\\site-packages\\lightgbm\\basic.py\u001B[0m in \u001B[0;36mupdate\u001B[1;34m(self, train_set, fobj)\u001B[0m\n\u001B[0;32m   2641\u001B[0m             \u001B[1;32mif\u001B[0m \u001B[0mself\u001B[0m\u001B[1;33m.\u001B[0m\u001B[0m__set_objective_to_none\u001B[0m\u001B[1;33m:\u001B[0m\u001B[1;33m\u001B[0m\u001B[1;33m\u001B[0m\u001B[0m\n\u001B[0;32m   2642\u001B[0m                 \u001B[1;32mraise\u001B[0m \u001B[0mLightGBMError\u001B[0m\u001B[1;33m(\u001B[0m\u001B[1;34m'Cannot update due to null objective function.'\u001B[0m\u001B[1;33m)\u001B[0m\u001B[1;33m\u001B[0m\u001B[1;33m\u001B[0m\u001B[0m\n\u001B[1;32m-> 2643\u001B[1;33m             _safe_call(_LIB.LGBM_BoosterUpdateOneIter(\n\u001B[0m\u001B[0;32m   2644\u001B[0m                 \u001B[0mself\u001B[0m\u001B[1;33m.\u001B[0m\u001B[0mhandle\u001B[0m\u001B[1;33m,\u001B[0m\u001B[1;33m\u001B[0m\u001B[1;33m\u001B[0m\u001B[0m\n\u001B[0;32m   2645\u001B[0m                 ctypes.byref(is_finished)))\n",
      "\u001B[1;31mKeyboardInterrupt\u001B[0m: "
     ]
    }
   ],
   "source": [
    "import lightgbm as lgb\n",
    "import re\n",
    "import gc\n",
    "\n",
    "# LightGBM parameters found by Bayesian optimization\n",
    "clf = lgb.LGBMClassifier(\n",
    "    nthread=4,\n",
    "    n_estimators=10000,\n",
    "    learning_rate=0.02,\n",
    "    num_leaves=34,\n",
    "    colsample_bytree=0.9497036,\n",
    "    subsample=0.8715623,\n",
    "    max_depth=8,\n",
    "    reg_alpha=0.041545473,\n",
    "    reg_lambda=0.0735294,\n",
    "    min_split_gain=0.0222415,\n",
    "    min_child_weight=39.3259775,\n",
    "    silent=-1,\n",
    "    verbose=-1, )\n",
    "\n",
    "X_train = X_train.rename(columns=lambda x: re.sub('[^A-Za-z0-9_]+', '', x))\n",
    "X_val = X_val.rename(columns=lambda x: re.sub('[^A-Za-z0-9_]+', '', x))\n",
    "# train_y = train_y.rename(columns = lambda x:re.sub('[^A-Za-z0-9_]+', '', x))\n",
    "\n",
    "print(\"Training LGBM\")\n",
    "clf.fit(X_train, y_train, eval_set=[(X_train, y_train), (X_val, y_val)],\n",
    "        eval_metric='auc', verbose=200, early_stopping_rounds=200)\n",
    "\n",
    "# save the model to disk\n",
    "print(\"Saving LGBM with joblib\")\n",
    "filename_joblib = 'models/LGBMClassifier.joblib'\n",
    "joblib.dump(clf, filename_joblib)\n"
   ],
   "metadata": {
    "collapsed": false,
    "pycharm": {
     "name": "#%%\n"
    }
   }
  },
  {
   "cell_type": "code",
   "execution_count": 21,
   "outputs": [
    {
     "name": "stdout",
     "output_type": "stream",
     "text": [
      "Loading LGBM\n"
     ]
    },
    {
     "ename": "KeyboardInterrupt",
     "evalue": "",
     "output_type": "error",
     "traceback": [
      "\u001B[1;31m---------------------------------------------------------------------------\u001B[0m",
      "\u001B[1;31mKeyboardInterrupt\u001B[0m                         Traceback (most recent call last)",
      "\u001B[1;32m~\\AppData\\Local\\Temp/ipykernel_22412/1906910421.py\u001B[0m in \u001B[0;36m<module>\u001B[1;34m\u001B[0m\n\u001B[0;32m      3\u001B[0m \u001B[0mclf\u001B[0m \u001B[1;33m=\u001B[0m \u001B[0mjoblib\u001B[0m\u001B[1;33m.\u001B[0m\u001B[0mload\u001B[0m\u001B[1;33m(\u001B[0m\u001B[1;34m'models/LGBM/LGBMClassifier_fold_0.joblib'\u001B[0m\u001B[1;33m)\u001B[0m\u001B[1;33m\u001B[0m\u001B[1;33m\u001B[0m\u001B[0m\n\u001B[0;32m      4\u001B[0m \u001B[1;33m\u001B[0m\u001B[0m\n\u001B[1;32m----> 5\u001B[1;33m \u001B[0my_pred\u001B[0m \u001B[1;33m=\u001B[0m \u001B[0mclf\u001B[0m\u001B[1;33m.\u001B[0m\u001B[0mpredict\u001B[0m\u001B[1;33m(\u001B[0m\u001B[0mX_val\u001B[0m\u001B[1;33m)\u001B[0m\u001B[1;33m\u001B[0m\u001B[1;33m\u001B[0m\u001B[0m\n\u001B[0m\u001B[0;32m      6\u001B[0m \u001B[0my_pred_proba\u001B[0m \u001B[1;33m=\u001B[0m \u001B[0mclf\u001B[0m\u001B[1;33m.\u001B[0m\u001B[0mpredict_proba\u001B[0m\u001B[1;33m(\u001B[0m\u001B[0mX_val\u001B[0m\u001B[1;33m)\u001B[0m\u001B[1;33m[\u001B[0m\u001B[1;33m:\u001B[0m\u001B[1;33m,\u001B[0m \u001B[1;36m1\u001B[0m\u001B[1;33m]\u001B[0m \u001B[1;31m# we take the prediction for the class 1\u001B[0m\u001B[1;33m\u001B[0m\u001B[1;33m\u001B[0m\u001B[0m\n\u001B[0;32m      7\u001B[0m \u001B[0mevaluate_classification\u001B[0m\u001B[1;33m(\u001B[0m\u001B[0my_val\u001B[0m\u001B[1;33m,\u001B[0m \u001B[0my_pred\u001B[0m\u001B[1;33m,\u001B[0m \u001B[0my_pred_proba\u001B[0m\u001B[1;33m=\u001B[0m\u001B[0my_pred_proba\u001B[0m\u001B[1;33m)\u001B[0m\u001B[1;33m\u001B[0m\u001B[1;33m\u001B[0m\u001B[0m\n",
      "\u001B[1;32mC:\\ProgramData\\Anaconda3\\lib\\site-packages\\lightgbm\\sklearn.py\u001B[0m in \u001B[0;36mpredict\u001B[1;34m(self, X, raw_score, start_iteration, num_iteration, pred_leaf, pred_contrib, **kwargs)\u001B[0m\n\u001B[0;32m    905\u001B[0m                 pred_leaf=False, pred_contrib=False, **kwargs):\n\u001B[0;32m    906\u001B[0m         \u001B[1;34m\"\"\"Docstring is inherited from the LGBMModel.\"\"\"\u001B[0m\u001B[1;33m\u001B[0m\u001B[1;33m\u001B[0m\u001B[0m\n\u001B[1;32m--> 907\u001B[1;33m         result = self.predict_proba(X, raw_score, start_iteration, num_iteration,\n\u001B[0m\u001B[0;32m    908\u001B[0m                                     pred_leaf, pred_contrib, **kwargs)\n\u001B[0;32m    909\u001B[0m         \u001B[1;32mif\u001B[0m \u001B[0mcallable\u001B[0m\u001B[1;33m(\u001B[0m\u001B[0mself\u001B[0m\u001B[1;33m.\u001B[0m\u001B[0m_objective\u001B[0m\u001B[1;33m)\u001B[0m \u001B[1;32mor\u001B[0m \u001B[0mraw_score\u001B[0m \u001B[1;32mor\u001B[0m \u001B[0mpred_leaf\u001B[0m \u001B[1;32mor\u001B[0m \u001B[0mpred_contrib\u001B[0m\u001B[1;33m:\u001B[0m\u001B[1;33m\u001B[0m\u001B[1;33m\u001B[0m\u001B[0m\n",
      "\u001B[1;32mC:\\ProgramData\\Anaconda3\\lib\\site-packages\\lightgbm\\sklearn.py\u001B[0m in \u001B[0;36mpredict_proba\u001B[1;34m(self, X, raw_score, start_iteration, num_iteration, pred_leaf, pred_contrib, **kwargs)\u001B[0m\n\u001B[0;32m    918\u001B[0m                       pred_leaf=False, pred_contrib=False, **kwargs):\n\u001B[0;32m    919\u001B[0m         \u001B[1;34m\"\"\"Docstring is set after definition, using a template.\"\"\"\u001B[0m\u001B[1;33m\u001B[0m\u001B[1;33m\u001B[0m\u001B[0m\n\u001B[1;32m--> 920\u001B[1;33m         \u001B[0mresult\u001B[0m \u001B[1;33m=\u001B[0m \u001B[0msuper\u001B[0m\u001B[1;33m(\u001B[0m\u001B[1;33m)\u001B[0m\u001B[1;33m.\u001B[0m\u001B[0mpredict\u001B[0m\u001B[1;33m(\u001B[0m\u001B[0mX\u001B[0m\u001B[1;33m,\u001B[0m \u001B[0mraw_score\u001B[0m\u001B[1;33m,\u001B[0m \u001B[0mstart_iteration\u001B[0m\u001B[1;33m,\u001B[0m \u001B[0mnum_iteration\u001B[0m\u001B[1;33m,\u001B[0m \u001B[0mpred_leaf\u001B[0m\u001B[1;33m,\u001B[0m \u001B[0mpred_contrib\u001B[0m\u001B[1;33m,\u001B[0m \u001B[1;33m**\u001B[0m\u001B[0mkwargs\u001B[0m\u001B[1;33m)\u001B[0m\u001B[1;33m\u001B[0m\u001B[1;33m\u001B[0m\u001B[0m\n\u001B[0m\u001B[0;32m    921\u001B[0m         \u001B[1;32mif\u001B[0m \u001B[0mcallable\u001B[0m\u001B[1;33m(\u001B[0m\u001B[0mself\u001B[0m\u001B[1;33m.\u001B[0m\u001B[0m_objective\u001B[0m\u001B[1;33m)\u001B[0m \u001B[1;32mand\u001B[0m \u001B[1;32mnot\u001B[0m \u001B[1;33m(\u001B[0m\u001B[0mraw_score\u001B[0m \u001B[1;32mor\u001B[0m \u001B[0mpred_leaf\u001B[0m \u001B[1;32mor\u001B[0m \u001B[0mpred_contrib\u001B[0m\u001B[1;33m)\u001B[0m\u001B[1;33m:\u001B[0m\u001B[1;33m\u001B[0m\u001B[1;33m\u001B[0m\u001B[0m\n\u001B[0;32m    922\u001B[0m             _log_warning(\"Cannot compute class probabilities or labels \"\n",
      "\u001B[1;32mC:\\ProgramData\\Anaconda3\\lib\\site-packages\\lightgbm\\sklearn.py\u001B[0m in \u001B[0;36mpredict\u001B[1;34m(self, X, raw_score, start_iteration, num_iteration, pred_leaf, pred_contrib, **kwargs)\u001B[0m\n\u001B[0;32m    724\u001B[0m                              \u001B[1;34m\"input n_features is %s \"\u001B[0m\u001B[1;33m\u001B[0m\u001B[1;33m\u001B[0m\u001B[0m\n\u001B[0;32m    725\u001B[0m                              % (self._n_features, n_features))\n\u001B[1;32m--> 726\u001B[1;33m         return self._Booster.predict(X, raw_score=raw_score, start_iteration=start_iteration, num_iteration=num_iteration,\n\u001B[0m\u001B[0;32m    727\u001B[0m                                      pred_leaf=pred_leaf, pred_contrib=pred_contrib, **kwargs)\n\u001B[0;32m    728\u001B[0m \u001B[1;33m\u001B[0m\u001B[0m\n",
      "\u001B[1;32mC:\\ProgramData\\Anaconda3\\lib\\site-packages\\lightgbm\\basic.py\u001B[0m in \u001B[0;36mpredict\u001B[1;34m(self, data, start_iteration, num_iteration, raw_score, pred_leaf, pred_contrib, data_has_header, is_reshape, **kwargs)\u001B[0m\n\u001B[0;32m   3140\u001B[0m             \u001B[1;32melse\u001B[0m\u001B[1;33m:\u001B[0m\u001B[1;33m\u001B[0m\u001B[1;33m\u001B[0m\u001B[0m\n\u001B[0;32m   3141\u001B[0m                 \u001B[0mnum_iteration\u001B[0m \u001B[1;33m=\u001B[0m \u001B[1;33m-\u001B[0m\u001B[1;36m1\u001B[0m\u001B[1;33m\u001B[0m\u001B[1;33m\u001B[0m\u001B[0m\n\u001B[1;32m-> 3142\u001B[1;33m         return predictor.predict(data, start_iteration, num_iteration,\n\u001B[0m\u001B[0;32m   3143\u001B[0m                                  \u001B[0mraw_score\u001B[0m\u001B[1;33m,\u001B[0m \u001B[0mpred_leaf\u001B[0m\u001B[1;33m,\u001B[0m \u001B[0mpred_contrib\u001B[0m\u001B[1;33m,\u001B[0m\u001B[1;33m\u001B[0m\u001B[1;33m\u001B[0m\u001B[0m\n\u001B[0;32m   3144\u001B[0m                                  data_has_header, is_reshape)\n",
      "\u001B[1;32mC:\\ProgramData\\Anaconda3\\lib\\site-packages\\lightgbm\\basic.py\u001B[0m in \u001B[0;36mpredict\u001B[1;34m(self, data, start_iteration, num_iteration, raw_score, pred_leaf, pred_contrib, data_has_header, is_reshape)\u001B[0m\n\u001B[0;32m    726\u001B[0m             \u001B[0mpreds\u001B[0m\u001B[1;33m,\u001B[0m \u001B[0mnrow\u001B[0m \u001B[1;33m=\u001B[0m \u001B[0mself\u001B[0m\u001B[1;33m.\u001B[0m\u001B[0m__pred_for_csc\u001B[0m\u001B[1;33m(\u001B[0m\u001B[0mdata\u001B[0m\u001B[1;33m,\u001B[0m \u001B[0mstart_iteration\u001B[0m\u001B[1;33m,\u001B[0m \u001B[0mnum_iteration\u001B[0m\u001B[1;33m,\u001B[0m \u001B[0mpredict_type\u001B[0m\u001B[1;33m)\u001B[0m\u001B[1;33m\u001B[0m\u001B[1;33m\u001B[0m\u001B[0m\n\u001B[0;32m    727\u001B[0m         \u001B[1;32melif\u001B[0m \u001B[0misinstance\u001B[0m\u001B[1;33m(\u001B[0m\u001B[0mdata\u001B[0m\u001B[1;33m,\u001B[0m \u001B[0mnp\u001B[0m\u001B[1;33m.\u001B[0m\u001B[0mndarray\u001B[0m\u001B[1;33m)\u001B[0m\u001B[1;33m:\u001B[0m\u001B[1;33m\u001B[0m\u001B[1;33m\u001B[0m\u001B[0m\n\u001B[1;32m--> 728\u001B[1;33m             \u001B[0mpreds\u001B[0m\u001B[1;33m,\u001B[0m \u001B[0mnrow\u001B[0m \u001B[1;33m=\u001B[0m \u001B[0mself\u001B[0m\u001B[1;33m.\u001B[0m\u001B[0m__pred_for_np2d\u001B[0m\u001B[1;33m(\u001B[0m\u001B[0mdata\u001B[0m\u001B[1;33m,\u001B[0m \u001B[0mstart_iteration\u001B[0m\u001B[1;33m,\u001B[0m \u001B[0mnum_iteration\u001B[0m\u001B[1;33m,\u001B[0m \u001B[0mpredict_type\u001B[0m\u001B[1;33m)\u001B[0m\u001B[1;33m\u001B[0m\u001B[1;33m\u001B[0m\u001B[0m\n\u001B[0m\u001B[0;32m    729\u001B[0m         \u001B[1;32melif\u001B[0m \u001B[0misinstance\u001B[0m\u001B[1;33m(\u001B[0m\u001B[0mdata\u001B[0m\u001B[1;33m,\u001B[0m \u001B[0mlist\u001B[0m\u001B[1;33m)\u001B[0m\u001B[1;33m:\u001B[0m\u001B[1;33m\u001B[0m\u001B[1;33m\u001B[0m\u001B[0m\n\u001B[0;32m    730\u001B[0m             \u001B[1;32mtry\u001B[0m\u001B[1;33m:\u001B[0m\u001B[1;33m\u001B[0m\u001B[1;33m\u001B[0m\u001B[0m\n",
      "\u001B[1;32mC:\\ProgramData\\Anaconda3\\lib\\site-packages\\lightgbm\\basic.py\u001B[0m in \u001B[0;36m__pred_for_np2d\u001B[1;34m(self, mat, start_iteration, num_iteration, predict_type)\u001B[0m\n\u001B[0;32m    817\u001B[0m             \u001B[1;32mreturn\u001B[0m \u001B[0mpreds\u001B[0m\u001B[1;33m,\u001B[0m \u001B[0mnrow\u001B[0m\u001B[1;33m\u001B[0m\u001B[1;33m\u001B[0m\u001B[0m\n\u001B[0;32m    818\u001B[0m         \u001B[1;32melse\u001B[0m\u001B[1;33m:\u001B[0m\u001B[1;33m\u001B[0m\u001B[1;33m\u001B[0m\u001B[0m\n\u001B[1;32m--> 819\u001B[1;33m             \u001B[1;32mreturn\u001B[0m \u001B[0minner_predict\u001B[0m\u001B[1;33m(\u001B[0m\u001B[0mmat\u001B[0m\u001B[1;33m,\u001B[0m \u001B[0mstart_iteration\u001B[0m\u001B[1;33m,\u001B[0m \u001B[0mnum_iteration\u001B[0m\u001B[1;33m,\u001B[0m \u001B[0mpredict_type\u001B[0m\u001B[1;33m)\u001B[0m\u001B[1;33m\u001B[0m\u001B[1;33m\u001B[0m\u001B[0m\n\u001B[0m\u001B[0;32m    820\u001B[0m \u001B[1;33m\u001B[0m\u001B[0m\n\u001B[0;32m    821\u001B[0m     def __create_sparse_native(self, cs, out_shape, out_ptr_indptr, out_ptr_indices, out_ptr_data,\n",
      "\u001B[1;32mC:\\ProgramData\\Anaconda3\\lib\\site-packages\\lightgbm\\basic.py\u001B[0m in \u001B[0;36minner_predict\u001B[1;34m(mat, start_iteration, num_iteration, predict_type, preds)\u001B[0m\n\u001B[0;32m    787\u001B[0m                 \u001B[1;32mraise\u001B[0m \u001B[0mValueError\u001B[0m\u001B[1;33m(\u001B[0m\u001B[1;34m\"Wrong length of pre-allocated predict array\"\u001B[0m\u001B[1;33m)\u001B[0m\u001B[1;33m\u001B[0m\u001B[1;33m\u001B[0m\u001B[0m\n\u001B[0;32m    788\u001B[0m             \u001B[0mout_num_preds\u001B[0m \u001B[1;33m=\u001B[0m \u001B[0mctypes\u001B[0m\u001B[1;33m.\u001B[0m\u001B[0mc_int64\u001B[0m\u001B[1;33m(\u001B[0m\u001B[1;36m0\u001B[0m\u001B[1;33m)\u001B[0m\u001B[1;33m\u001B[0m\u001B[1;33m\u001B[0m\u001B[0m\n\u001B[1;32m--> 789\u001B[1;33m             _safe_call(_LIB.LGBM_BoosterPredictForMat(\n\u001B[0m\u001B[0;32m    790\u001B[0m                 \u001B[0mself\u001B[0m\u001B[1;33m.\u001B[0m\u001B[0mhandle\u001B[0m\u001B[1;33m,\u001B[0m\u001B[1;33m\u001B[0m\u001B[1;33m\u001B[0m\u001B[0m\n\u001B[0;32m    791\u001B[0m                 \u001B[0mptr_data\u001B[0m\u001B[1;33m,\u001B[0m\u001B[1;33m\u001B[0m\u001B[1;33m\u001B[0m\u001B[0m\n",
      "\u001B[1;31mKeyboardInterrupt\u001B[0m: "
     ]
    }
   ],
   "source": [
    "# load model\n",
    "print(\"Loading LGBM\")\n",
    "clf = joblib.load('models/LGBMClassifier.joblib')\n",
    "\n",
    "y_pred = clf.predict(X_val)\n",
    "y_pred_proba = clf.predict_proba(X_val)[:, 1] # we take the prediction for the class 1\n",
    "evaluate_classification(y_val, y_pred, y_pred_proba=y_pred_proba)\n",
    "results = evaluate_models(\"LightGBM\", results, y_val, y_pred)"
   ],
   "metadata": {
    "collapsed": false,
    "pycharm": {
     "name": "#%%\n"
    }
   }
  },
  {
   "cell_type": "code",
   "execution_count": 22,
   "outputs": [
    {
     "name": "stdout",
     "output_type": "stream",
     "text": [
      "Loading LGBM\n",
      "              precision    recall  f1-score   support\n",
      "\n",
      "           0       0.93      1.00      0.96     84811\n",
      "           1       0.83      0.10      0.17      7442\n",
      "\n",
      "    accuracy                           0.93     92253\n",
      "   macro avg       0.88      0.55      0.57     92253\n",
      "weighted avg       0.92      0.93      0.90     92253\n",
      "\n",
      "ROC-AUC 0.548\n"
     ]
    },
    {
     "data": {
      "text/plain": "<Figure size 432x288 with 2 Axes>",
      "image/png": "[encoded data removed]"
     },
     "metadata": {
      "needs_background": "light"
     },
     "output_type": "display_data"
    },
    {
     "data": {
      "text/plain": "<Figure size 432x288 with 1 Axes>",
      "image/png": "[encoded data removed]"
     },
     "metadata": {
      "needs_background": "light"
     },
     "output_type": "display_data"
    },
    {
     "name": "stdout",
     "output_type": "stream",
     "text": [
      "Prediction for :  TARGET\n"
     ]
    },
    {
     "data": {
      "text/plain": "        Model  ROC-AUC  Precision  Recall  F1-score  F1-score weighted  \\\n0  LightGBM_0    0.548      0.831   0.097     0.174              0.897   \n0   HistBoost    0.518      0.573   0.039     0.073              0.887   \n0       Dummy    0.500      0.000   0.000     0.000              0.881   \n\n   Accuracy  \n0     0.926  \n0     0.920  \n0     0.919  ",
      "text/html": "<div>\n<style scoped>\n    .dataframe tbody tr th:only-of-type {\n        vertical-align: middle;\n    }\n\n    .dataframe tbody tr th {\n        vertical-align: top;\n    }\n\n    .dataframe thead th {\n        text-align: right;\n    }\n</style>\n<table border=\"1\" class=\"dataframe\">\n  <thead>\n    <tr style=\"text-align: right;\">\n      <th></th>\n      <th>Model</th>\n      <th>ROC-AUC</th>\n      <th>Precision</th>\n      <th>Recall</th>\n      <th>F1-score</th>\n      <th>F1-score weighted</th>\n      <th>Accuracy</th>\n    </tr>\n  </thead>\n  <tbody>\n    <tr>\n      <th>0</th>\n      <td>LightGBM_0</td>\n      <td>0.548</td>\n      <td>0.831</td>\n      <td>0.097</td>\n      <td>0.174</td>\n      <td>0.897</td>\n      <td>0.926</td>\n    </tr>\n    <tr>\n      <th>0</th>\n      <td>HistBoost</td>\n      <td>0.518</td>\n      <td>0.573</td>\n      <td>0.039</td>\n      <td>0.073</td>\n      <td>0.887</td>\n      <td>0.920</td>\n    </tr>\n    <tr>\n      <th>0</th>\n      <td>Dummy</td>\n      <td>0.500</td>\n      <td>0.000</td>\n      <td>0.000</td>\n      <td>0.000</td>\n      <td>0.881</td>\n      <td>0.919</td>\n    </tr>\n  </tbody>\n</table>\n</div>"
     },
     "metadata": {},
     "output_type": "display_data"
    },
    {
     "name": "stdout",
     "output_type": "stream",
     "text": [
      "Loading LGBM\n"
     ]
    },
    {
     "ename": "FileNotFoundError",
     "evalue": "[Errno 2] No such file or directory: 'models/LGBM/LGBMClassifier_fold_1.joblib'",
     "output_type": "error",
     "traceback": [
      "\u001B[1;31m---------------------------------------------------------------------------\u001B[0m",
      "\u001B[1;31mFileNotFoundError\u001B[0m                         Traceback (most recent call last)",
      "\u001B[1;32m~\\AppData\\Local\\Temp/ipykernel_22412/4186313956.py\u001B[0m in \u001B[0;36m<module>\u001B[1;34m\u001B[0m\n\u001B[0;32m      2\u001B[0m     \u001B[1;31m# load model\u001B[0m\u001B[1;33m\u001B[0m\u001B[1;33m\u001B[0m\u001B[0m\n\u001B[0;32m      3\u001B[0m     \u001B[0mprint\u001B[0m\u001B[1;33m(\u001B[0m\u001B[1;34m\"Loading LGBM\"\u001B[0m\u001B[1;33m)\u001B[0m\u001B[1;33m\u001B[0m\u001B[1;33m\u001B[0m\u001B[0m\n\u001B[1;32m----> 4\u001B[1;33m     \u001B[0mclf\u001B[0m \u001B[1;33m=\u001B[0m \u001B[0mjoblib\u001B[0m\u001B[1;33m.\u001B[0m\u001B[0mload\u001B[0m\u001B[1;33m(\u001B[0m\u001B[1;34m'models/LGBM/LGBMClassifier_fold_{}.joblib'\u001B[0m\u001B[1;33m.\u001B[0m\u001B[0mformat\u001B[0m\u001B[1;33m(\u001B[0m\u001B[0mi\u001B[0m\u001B[1;33m)\u001B[0m\u001B[1;33m)\u001B[0m\u001B[1;33m\u001B[0m\u001B[1;33m\u001B[0m\u001B[0m\n\u001B[0m\u001B[0;32m      5\u001B[0m \u001B[1;33m\u001B[0m\u001B[0m\n\u001B[0;32m      6\u001B[0m     \u001B[0my_pred\u001B[0m \u001B[1;33m=\u001B[0m \u001B[0mclf\u001B[0m\u001B[1;33m.\u001B[0m\u001B[0mpredict\u001B[0m\u001B[1;33m(\u001B[0m\u001B[0mX_val\u001B[0m\u001B[1;33m)\u001B[0m\u001B[1;33m\u001B[0m\u001B[1;33m\u001B[0m\u001B[0m\n",
      "\u001B[1;32m~\\AppData\\Roaming\\Python\\Python39\\site-packages\\joblib\\numpy_pickle.py\u001B[0m in \u001B[0;36mload\u001B[1;34m(filename, mmap_mode)\u001B[0m\n\u001B[0;32m    648\u001B[0m             \u001B[0mobj\u001B[0m \u001B[1;33m=\u001B[0m \u001B[0m_unpickle\u001B[0m\u001B[1;33m(\u001B[0m\u001B[0mfobj\u001B[0m\u001B[1;33m)\u001B[0m\u001B[1;33m\u001B[0m\u001B[1;33m\u001B[0m\u001B[0m\n\u001B[0;32m    649\u001B[0m     \u001B[1;32melse\u001B[0m\u001B[1;33m:\u001B[0m\u001B[1;33m\u001B[0m\u001B[1;33m\u001B[0m\u001B[0m\n\u001B[1;32m--> 650\u001B[1;33m         \u001B[1;32mwith\u001B[0m \u001B[0mopen\u001B[0m\u001B[1;33m(\u001B[0m\u001B[0mfilename\u001B[0m\u001B[1;33m,\u001B[0m \u001B[1;34m'rb'\u001B[0m\u001B[1;33m)\u001B[0m \u001B[1;32mas\u001B[0m \u001B[0mf\u001B[0m\u001B[1;33m:\u001B[0m\u001B[1;33m\u001B[0m\u001B[1;33m\u001B[0m\u001B[0m\n\u001B[0m\u001B[0;32m    651\u001B[0m             \u001B[1;32mwith\u001B[0m \u001B[0m_read_fileobject\u001B[0m\u001B[1;33m(\u001B[0m\u001B[0mf\u001B[0m\u001B[1;33m,\u001B[0m \u001B[0mfilename\u001B[0m\u001B[1;33m,\u001B[0m \u001B[0mmmap_mode\u001B[0m\u001B[1;33m)\u001B[0m \u001B[1;32mas\u001B[0m \u001B[0mfobj\u001B[0m\u001B[1;33m:\u001B[0m\u001B[1;33m\u001B[0m\u001B[1;33m\u001B[0m\u001B[0m\n\u001B[0;32m    652\u001B[0m                 \u001B[1;32mif\u001B[0m \u001B[0misinstance\u001B[0m\u001B[1;33m(\u001B[0m\u001B[0mfobj\u001B[0m\u001B[1;33m,\u001B[0m \u001B[0mstr\u001B[0m\u001B[1;33m)\u001B[0m\u001B[1;33m:\u001B[0m\u001B[1;33m\u001B[0m\u001B[1;33m\u001B[0m\u001B[0m\n",
      "\u001B[1;31mFileNotFoundError\u001B[0m: [Errno 2] No such file or directory: 'models/LGBM/LGBMClassifier_fold_1.joblib'"
     ]
    },
    {
     "data": {
      "text/plain": "<Figure size 432x288 with 1 Axes>",
      "image/png": "[encoded data removed]"
     },
     "metadata": {
      "needs_background": "light"
     },
     "output_type": "display_data"
    }
   ],
   "source": [
    "for i in range(10):\n",
    "    # load model\n",
    "    print(\"Loading LGBM\")\n",
    "    clf = joblib.load('models/LGBM/LGBMClassifier_fold_{}.joblib'.format(i))\n",
    "\n",
    "    y_pred = clf.predict(X_val)\n",
    "    y_pred_proba = clf.predict_proba(X_val)[:, 1] # we take the prediction for the class 1\n",
    "    evaluate_classification(y_val, y_pred, y_pred_proba=y_pred_proba)\n",
    "    results = evaluate_models(\"LightGBM_{}\".format(i), results, y_val, y_pred)"
   ],
   "metadata": {
    "collapsed": false,
    "pycharm": {
     "name": "#%%\n"
    }
   }
  },
  {
   "cell_type": "code",
   "execution_count": null,
   "outputs": [],
   "source": [
    "# save the model to disk\n",
    "#print(\"Saving best model with joblib\")\n",
    "#filename_joblib = 'models/best_model.joblib'\n",
    "#joblib.dump(clf, filename_joblib)"
   ],
   "metadata": {
    "collapsed": false,
    "pycharm": {
     "name": "#%%\n"
    }
   }
  },
  {
   "cell_type": "markdown",
   "source": [
    "#### CV\n",
    "#### GridSearch\n",
    "#### SMOTE\n",
    "\n",
    "#### (MLflow tracking)\n"
   ],
   "metadata": {
    "collapsed": false,
    "pycharm": {
     "name": "#%% md\n"
    }
   }
  },
  {
   "cell_type": "code",
   "execution_count": null,
   "outputs": [],
   "source": [
    "# End of notebook time\n",
    "t1 = time()\n",
    "print(\"computing time : {:8.6f} sec\".format(t1 - t0))\n",
    "print(\"computing time : \" + strftime('%H:%M:%S', gmtime(t1 - t0)))"
   ],
   "metadata": {
    "collapsed": false,
    "pycharm": {
     "name": "#%%\n"
    }
   }
  }
 ],
 "metadata": {
  "kernelspec": {
   "display_name": "Python 3",
   "language": "python",
   "name": "python3"
  },
  "language_info": {
   "codemirror_mode": {
    "name": "ipython",
    "version": 2
   },
   "file_extension": ".py",
   "mimetype": "text/x-python",
   "name": "python",
   "nbconvert_exporter": "python",
   "pygments_lexer": "ipython2",
   "version": "2.7.6"
  }
 },
 "nbformat": 4,
 "nbformat_minor": 0
}