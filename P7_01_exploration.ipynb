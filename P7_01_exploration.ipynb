{
 "cells": [
  {
   "cell_type": "markdown",
   "source": [
    "- OpenClassrooms Project 7, Data Scientist\n",
    "- Author : Oumeima EL GHARBI\n",
    "- Date : November, December 2022"
   ],
   "metadata": {
    "collapsed": false,
    "pycharm": {
     "name": "#%% md\n"
    }
   }
  },
  {
   "cell_type": "markdown",
   "source": [
    "### Importing libraries"
   ],
   "metadata": {
    "collapsed": false,
    "pycharm": {
     "name": "#%% md\n"
    }
   }
  },
  {
   "cell_type": "code",
   "execution_count": 1,
   "outputs": [
    {
     "data": {
      "application/javascript": "IPython.notebook.set_autosave_interval(300000)"
     },
     "metadata": {},
     "output_type": "display_data"
    },
    {
     "name": "stdout",
     "output_type": "stream",
     "text": [
      "Autosaving every 300 seconds\n"
     ]
    }
   ],
   "source": [
    "%reset -f\n",
    "\n",
    "import warnings\n",
    "warnings.filterwarnings(action=\"ignore\")\n",
    "\n",
    "# to compute time of pipeline\n",
    "from time import time, strftime, gmtime\n",
    "\n",
    "import pandas as pd\n",
    "from os import listdir\n",
    "from os.path import isfile, join\n",
    "\n",
    "import joblib\n",
    "\n",
    "%matplotlib inline\n",
    "%autosave 300"
   ],
   "metadata": {
    "collapsed": false,
    "pycharm": {
     "name": "#%%\n"
    }
   }
  },
  {
   "cell_type": "code",
   "execution_count": 2,
   "outputs": [
    {
     "name": "stdout",
     "output_type": "stream",
     "text": [
      "Python version 3.9.7\n"
     ]
    }
   ],
   "source": [
    "import sys\n",
    "print(\"Python version {}.{}.{}\".format(str(sys.version_info[0]), str(sys.version_info[1]), str(sys.version_info[2])))"
   ],
   "metadata": {
    "collapsed": false,
    "pycharm": {
     "name": "#%%\n"
    }
   }
  },
  {
   "cell_type": "code",
   "execution_count": 3,
   "outputs": [],
   "source": [
    "# Starting time\n",
    "t0 = time()\n",
    "\n",
    "input_path = \"./dataset/source/\"\n",
    "\n",
    "output_path = \"./dataset/cleaned/\""
   ],
   "metadata": {
    "collapsed": false,
    "pycharm": {
     "name": "#%%\n"
    }
   }
  },
  {
   "cell_type": "markdown",
   "source": [
    "## Part I : Exploratory Data Analysis"
   ],
   "metadata": {
    "collapsed": false,
    "pycharm": {
     "name": "#%% md\n"
    }
   }
  },
  {
   "cell_type": "markdown",
   "source": [
    "#### Importing all datasets"
   ],
   "metadata": {
    "collapsed": false,
    "pycharm": {
     "name": "#%% md\n"
    }
   }
  },
  {
   "cell_type": "markdown",
   "source": [
    "We read the folder in which we have all the csv files."
   ],
   "metadata": {
    "collapsed": false,
    "pycharm": {
     "name": "#%% md\n"
    }
   }
  },
  {
   "cell_type": "code",
   "execution_count": 4,
   "outputs": [
    {
     "name": "stdout",
     "output_type": "stream",
     "text": [
      "['application_train.csv', 'bureau.csv', 'bureau_balance.csv', 'credit_card_balance.csv', 'HomeCredit_columns_description.csv', 'installments_payments.csv', 'POS_CASH_balance.csv', 'previous_application.csv']\n",
      "\n",
      "['application_train.csv', 'bureau.csv', 'bureau_balance.csv', 'credit_card_balance.csv', 'HomeCredit_columns_description.csv', 'installments_payments.csv', 'POS_CASH_balance.csv', 'previous_application.csv']\n"
     ]
    }
   ],
   "source": [
    "all_files = [f for f in listdir(input_path) if isfile(join(input_path, f))]\n",
    "\n",
    "all_csv_files = [file for file in all_files if file.endswith(\".csv\")]\n",
    "print(all_files, end='\\n\\n')\n",
    "\n",
    "print(all_csv_files)"
   ],
   "metadata": {
    "collapsed": false,
    "pycharm": {
     "name": "#%%\n"
    }
   }
  },
  {
   "cell_type": "code",
   "execution_count": 5,
   "outputs": [],
   "source": [
    "def load_data(path, filename):\n",
    "    \"\"\"\n",
    "    Step 0)\n",
    "    :param path:\n",
    "    :param filename: (string)\n",
    "    :return:\n",
    "    \"\"\"\n",
    "    print(\"___Loading raw dataset___\")\n",
    "\n",
    "    # Load raw data\n",
    "    dataset_file = \"{}{}\".format(path, filename)\n",
    "    dataset = pd.read_csv(dataset_file, encoding=\"windows-1252\")\n",
    "\n",
    "    print(\"Initial shape :\", dataset.shape)\n",
    "    return dataset"
   ],
   "metadata": {
    "collapsed": false,
    "pycharm": {
     "name": "#%%\n"
    }
   }
  },
  {
   "cell_type": "code",
   "execution_count": 6,
   "outputs": [
    {
     "name": "stdout",
     "output_type": "stream",
     "text": [
      "___Loading raw dataset___\n",
      "Initial shape : (307511, 122)\n",
      "This is the dataset n°1 : application_train\n"
     ]
    },
    {
     "data": {
      "text/plain": "   SK_ID_CURR  TARGET NAME_CONTRACT_TYPE CODE_GENDER FLAG_OWN_CAR  \\\n0      100002       1         Cash loans           M            N   \n1      100003       0         Cash loans           F            N   \n\n  FLAG_OWN_REALTY  CNT_CHILDREN  AMT_INCOME_TOTAL  AMT_CREDIT  AMT_ANNUITY  \\\n0               Y             0          202500.0    406597.5      24700.5   \n1               N             0          270000.0   1293502.5      35698.5   \n\n   ...  FLAG_DOCUMENT_18 FLAG_DOCUMENT_19 FLAG_DOCUMENT_20 FLAG_DOCUMENT_21  \\\n0  ...                 0                0                0                0   \n1  ...                 0                0                0                0   \n\n  AMT_REQ_CREDIT_BUREAU_HOUR AMT_REQ_CREDIT_BUREAU_DAY  \\\n0                        0.0                       0.0   \n1                        0.0                       0.0   \n\n   AMT_REQ_CREDIT_BUREAU_WEEK  AMT_REQ_CREDIT_BUREAU_MON  \\\n0                         0.0                        0.0   \n1                         0.0                        0.0   \n\n   AMT_REQ_CREDIT_BUREAU_QRT  AMT_REQ_CREDIT_BUREAU_YEAR  \n0                        0.0                         1.0  \n1                        0.0                         0.0  \n\n[2 rows x 122 columns]",
      "text/html": "<div>\n<style scoped>\n    .dataframe tbody tr th:only-of-type {\n        vertical-align: middle;\n    }\n\n    .dataframe tbody tr th {\n        vertical-align: top;\n    }\n\n    .dataframe thead th {\n        text-align: right;\n    }\n</style>\n<table border=\"1\" class=\"dataframe\">\n  <thead>\n    <tr style=\"text-align: right;\">\n      <th></th>\n      <th>SK_ID_CURR</th>\n      <th>TARGET</th>\n      <th>NAME_CONTRACT_TYPE</th>\n      <th>CODE_GENDER</th>\n      <th>FLAG_OWN_CAR</th>\n      <th>FLAG_OWN_REALTY</th>\n      <th>CNT_CHILDREN</th>\n      <th>AMT_INCOME_TOTAL</th>\n      <th>AMT_CREDIT</th>\n      <th>AMT_ANNUITY</th>\n      <th>...</th>\n      <th>FLAG_DOCUMENT_18</th>\n      <th>FLAG_DOCUMENT_19</th>\n      <th>FLAG_DOCUMENT_20</th>\n      <th>FLAG_DOCUMENT_21</th>\n      <th>AMT_REQ_CREDIT_BUREAU_HOUR</th>\n      <th>AMT_REQ_CREDIT_BUREAU_DAY</th>\n      <th>AMT_REQ_CREDIT_BUREAU_WEEK</th>\n      <th>AMT_REQ_CREDIT_BUREAU_MON</th>\n      <th>AMT_REQ_CREDIT_BUREAU_QRT</th>\n      <th>AMT_REQ_CREDIT_BUREAU_YEAR</th>\n    </tr>\n  </thead>\n  <tbody>\n    <tr>\n      <th>0</th>\n      <td>100002</td>\n      <td>1</td>\n      <td>Cash loans</td>\n      <td>M</td>\n      <td>N</td>\n      <td>Y</td>\n      <td>0</td>\n      <td>202500.0</td>\n      <td>406597.5</td>\n      <td>24700.5</td>\n      <td>...</td>\n      <td>0</td>\n      <td>0</td>\n      <td>0</td>\n      <td>0</td>\n      <td>0.0</td>\n      <td>0.0</td>\n      <td>0.0</td>\n      <td>0.0</td>\n      <td>0.0</td>\n      <td>1.0</td>\n    </tr>\n    <tr>\n      <th>1</th>\n      <td>100003</td>\n      <td>0</td>\n      <td>Cash loans</td>\n      <td>F</td>\n      <td>N</td>\n      <td>N</td>\n      <td>0</td>\n      <td>270000.0</td>\n      <td>1293502.5</td>\n      <td>35698.5</td>\n      <td>...</td>\n      <td>0</td>\n      <td>0</td>\n      <td>0</td>\n      <td>0</td>\n      <td>0.0</td>\n      <td>0.0</td>\n      <td>0.0</td>\n      <td>0.0</td>\n      <td>0.0</td>\n      <td>0.0</td>\n    </tr>\n  </tbody>\n</table>\n<p>2 rows × 122 columns</p>\n</div>"
     },
     "metadata": {},
     "output_type": "display_data"
    },
    {
     "name": "stdout",
     "output_type": "stream",
     "text": [
      "<class 'pandas.core.frame.DataFrame'>\n",
      "RangeIndex: 307511 entries, 0 to 307510\n",
      "Data columns (total 122 columns):\n",
      " #    Column                        Dtype  \n",
      "---   ------                        -----  \n",
      " 0    SK_ID_CURR                    int64  \n",
      " 1    TARGET                        int64  \n",
      " 2    NAME_CONTRACT_TYPE            object \n",
      " 3    CODE_GENDER                   object \n",
      " 4    FLAG_OWN_CAR                  object \n",
      " 5    FLAG_OWN_REALTY               object \n",
      " 6    CNT_CHILDREN                  int64  \n",
      " 7    AMT_INCOME_TOTAL              float64\n",
      " 8    AMT_CREDIT                    float64\n",
      " 9    AMT_ANNUITY                   float64\n",
      " 10   AMT_GOODS_PRICE               float64\n",
      " 11   NAME_TYPE_SUITE               object \n",
      " 12   NAME_INCOME_TYPE              object \n",
      " 13   NAME_EDUCATION_TYPE           object \n",
      " 14   NAME_FAMILY_STATUS            object \n",
      " 15   NAME_HOUSING_TYPE             object \n",
      " 16   REGION_POPULATION_RELATIVE    float64\n",
      " 17   DAYS_BIRTH                    int64  \n",
      " 18   DAYS_EMPLOYED                 int64  \n",
      " 19   DAYS_REGISTRATION             float64\n",
      " 20   DAYS_ID_PUBLISH               int64  \n",
      " 21   OWN_CAR_AGE                   float64\n",
      " 22   FLAG_MOBIL                    int64  \n",
      " 23   FLAG_EMP_PHONE                int64  \n",
      " 24   FLAG_WORK_PHONE               int64  \n",
      " 25   FLAG_CONT_MOBILE              int64  \n",
      " 26   FLAG_PHONE                    int64  \n",
      " 27   FLAG_EMAIL                    int64  \n",
      " 28   OCCUPATION_TYPE               object \n",
      " 29   CNT_FAM_MEMBERS               float64\n",
      " 30   REGION_RATING_CLIENT          int64  \n",
      " 31   REGION_RATING_CLIENT_W_CITY   int64  \n",
      " 32   WEEKDAY_APPR_PROCESS_START    object \n",
      " 33   HOUR_APPR_PROCESS_START       int64  \n",
      " 34   REG_REGION_NOT_LIVE_REGION    int64  \n",
      " 35   REG_REGION_NOT_WORK_REGION    int64  \n",
      " 36   LIVE_REGION_NOT_WORK_REGION   int64  \n",
      " 37   REG_CITY_NOT_LIVE_CITY        int64  \n",
      " 38   REG_CITY_NOT_WORK_CITY        int64  \n",
      " 39   LIVE_CITY_NOT_WORK_CITY       int64  \n",
      " 40   ORGANIZATION_TYPE             object \n",
      " 41   EXT_SOURCE_1                  float64\n",
      " 42   EXT_SOURCE_2                  float64\n",
      " 43   EXT_SOURCE_3                  float64\n",
      " 44   APARTMENTS_AVG                float64\n",
      " 45   BASEMENTAREA_AVG              float64\n",
      " 46   YEARS_BEGINEXPLUATATION_AVG   float64\n",
      " 47   YEARS_BUILD_AVG               float64\n",
      " 48   COMMONAREA_AVG                float64\n",
      " 49   ELEVATORS_AVG                 float64\n",
      " 50   ENTRANCES_AVG                 float64\n",
      " 51   FLOORSMAX_AVG                 float64\n",
      " 52   FLOORSMIN_AVG                 float64\n",
      " 53   LANDAREA_AVG                  float64\n",
      " 54   LIVINGAPARTMENTS_AVG          float64\n",
      " 55   LIVINGAREA_AVG                float64\n",
      " 56   NONLIVINGAPARTMENTS_AVG       float64\n",
      " 57   NONLIVINGAREA_AVG             float64\n",
      " 58   APARTMENTS_MODE               float64\n",
      " 59   BASEMENTAREA_MODE             float64\n",
      " 60   YEARS_BEGINEXPLUATATION_MODE  float64\n",
      " 61   YEARS_BUILD_MODE              float64\n",
      " 62   COMMONAREA_MODE               float64\n",
      " 63   ELEVATORS_MODE                float64\n",
      " 64   ENTRANCES_MODE                float64\n",
      " 65   FLOORSMAX_MODE                float64\n",
      " 66   FLOORSMIN_MODE                float64\n",
      " 67   LANDAREA_MODE                 float64\n",
      " 68   LIVINGAPARTMENTS_MODE         float64\n",
      " 69   LIVINGAREA_MODE               float64\n",
      " 70   NONLIVINGAPARTMENTS_MODE      float64\n",
      " 71   NONLIVINGAREA_MODE            float64\n",
      " 72   APARTMENTS_MEDI               float64\n",
      " 73   BASEMENTAREA_MEDI             float64\n",
      " 74   YEARS_BEGINEXPLUATATION_MEDI  float64\n",
      " 75   YEARS_BUILD_MEDI              float64\n",
      " 76   COMMONAREA_MEDI               float64\n",
      " 77   ELEVATORS_MEDI                float64\n",
      " 78   ENTRANCES_MEDI                float64\n",
      " 79   FLOORSMAX_MEDI                float64\n",
      " 80   FLOORSMIN_MEDI                float64\n",
      " 81   LANDAREA_MEDI                 float64\n",
      " 82   LIVINGAPARTMENTS_MEDI         float64\n",
      " 83   LIVINGAREA_MEDI               float64\n",
      " 84   NONLIVINGAPARTMENTS_MEDI      float64\n",
      " 85   NONLIVINGAREA_MEDI            float64\n",
      " 86   FONDKAPREMONT_MODE            object \n",
      " 87   HOUSETYPE_MODE                object \n",
      " 88   TOTALAREA_MODE                float64\n",
      " 89   WALLSMATERIAL_MODE            object \n",
      " 90   EMERGENCYSTATE_MODE           object \n",
      " 91   OBS_30_CNT_SOCIAL_CIRCLE      float64\n",
      " 92   DEF_30_CNT_SOCIAL_CIRCLE      float64\n",
      " 93   OBS_60_CNT_SOCIAL_CIRCLE      float64\n",
      " 94   DEF_60_CNT_SOCIAL_CIRCLE      float64\n",
      " 95   DAYS_LAST_PHONE_CHANGE        float64\n",
      " 96   FLAG_DOCUMENT_2               int64  \n",
      " 97   FLAG_DOCUMENT_3               int64  \n",
      " 98   FLAG_DOCUMENT_4               int64  \n",
      " 99   FLAG_DOCUMENT_5               int64  \n",
      " 100  FLAG_DOCUMENT_6               int64  \n",
      " 101  FLAG_DOCUMENT_7               int64  \n",
      " 102  FLAG_DOCUMENT_8               int64  \n",
      " 103  FLAG_DOCUMENT_9               int64  \n",
      " 104  FLAG_DOCUMENT_10              int64  \n",
      " 105  FLAG_DOCUMENT_11              int64  \n",
      " 106  FLAG_DOCUMENT_12              int64  \n",
      " 107  FLAG_DOCUMENT_13              int64  \n",
      " 108  FLAG_DOCUMENT_14              int64  \n",
      " 109  FLAG_DOCUMENT_15              int64  \n",
      " 110  FLAG_DOCUMENT_16              int64  \n",
      " 111  FLAG_DOCUMENT_17              int64  \n",
      " 112  FLAG_DOCUMENT_18              int64  \n",
      " 113  FLAG_DOCUMENT_19              int64  \n",
      " 114  FLAG_DOCUMENT_20              int64  \n",
      " 115  FLAG_DOCUMENT_21              int64  \n",
      " 116  AMT_REQ_CREDIT_BUREAU_HOUR    float64\n",
      " 117  AMT_REQ_CREDIT_BUREAU_DAY     float64\n",
      " 118  AMT_REQ_CREDIT_BUREAU_WEEK    float64\n",
      " 119  AMT_REQ_CREDIT_BUREAU_MON     float64\n",
      " 120  AMT_REQ_CREDIT_BUREAU_QRT     float64\n",
      " 121  AMT_REQ_CREDIT_BUREAU_YEAR    float64\n",
      "dtypes: float64(65), int64(41), object(16)\n",
      "memory usage: 286.2+ MB\n"
     ]
    },
    {
     "data": {
      "text/plain": "None"
     },
     "metadata": {},
     "output_type": "display_data"
    },
    {
     "name": "stdout",
     "output_type": "stream",
     "text": [
      "___Loading raw dataset___\n",
      "Initial shape : (1716428, 17)\n",
      "This is the dataset n°2 : bureau\n"
     ]
    },
    {
     "data": {
      "text/plain": "   SK_ID_CURR  SK_ID_BUREAU CREDIT_ACTIVE CREDIT_CURRENCY  DAYS_CREDIT  \\\n0      215354       5714462        Closed      currency 1         -497   \n1      215354       5714463        Active      currency 1         -208   \n\n   CREDIT_DAY_OVERDUE  DAYS_CREDIT_ENDDATE  DAYS_ENDDATE_FACT  \\\n0                   0               -153.0             -153.0   \n1                   0               1075.0                NaN   \n\n   AMT_CREDIT_MAX_OVERDUE  CNT_CREDIT_PROLONG  AMT_CREDIT_SUM  \\\n0                     NaN                   0         91323.0   \n1                     NaN                   0        225000.0   \n\n   AMT_CREDIT_SUM_DEBT  AMT_CREDIT_SUM_LIMIT  AMT_CREDIT_SUM_OVERDUE  \\\n0                  0.0                   NaN                     0.0   \n1             171342.0                   NaN                     0.0   \n\n       CREDIT_TYPE  DAYS_CREDIT_UPDATE  AMT_ANNUITY  \n0  Consumer credit                -131          NaN  \n1      Credit card                 -20          NaN  ",
      "text/html": "<div>\n<style scoped>\n    .dataframe tbody tr th:only-of-type {\n        vertical-align: middle;\n    }\n\n    .dataframe tbody tr th {\n        vertical-align: top;\n    }\n\n    .dataframe thead th {\n        text-align: right;\n    }\n</style>\n<table border=\"1\" class=\"dataframe\">\n  <thead>\n    <tr style=\"text-align: right;\">\n      <th></th>\n      <th>SK_ID_CURR</th>\n      <th>SK_ID_BUREAU</th>\n      <th>CREDIT_ACTIVE</th>\n      <th>CREDIT_CURRENCY</th>\n      <th>DAYS_CREDIT</th>\n      <th>CREDIT_DAY_OVERDUE</th>\n      <th>DAYS_CREDIT_ENDDATE</th>\n      <th>DAYS_ENDDATE_FACT</th>\n      <th>AMT_CREDIT_MAX_OVERDUE</th>\n      <th>CNT_CREDIT_PROLONG</th>\n      <th>AMT_CREDIT_SUM</th>\n      <th>AMT_CREDIT_SUM_DEBT</th>\n      <th>AMT_CREDIT_SUM_LIMIT</th>\n      <th>AMT_CREDIT_SUM_OVERDUE</th>\n      <th>CREDIT_TYPE</th>\n      <th>DAYS_CREDIT_UPDATE</th>\n      <th>AMT_ANNUITY</th>\n    </tr>\n  </thead>\n  <tbody>\n    <tr>\n      <th>0</th>\n      <td>215354</td>\n      <td>5714462</td>\n      <td>Closed</td>\n      <td>currency 1</td>\n      <td>-497</td>\n      <td>0</td>\n      <td>-153.0</td>\n      <td>-153.0</td>\n      <td>NaN</td>\n      <td>0</td>\n      <td>91323.0</td>\n      <td>0.0</td>\n      <td>NaN</td>\n      <td>0.0</td>\n      <td>Consumer credit</td>\n      <td>-131</td>\n      <td>NaN</td>\n    </tr>\n    <tr>\n      <th>1</th>\n      <td>215354</td>\n      <td>5714463</td>\n      <td>Active</td>\n      <td>currency 1</td>\n      <td>-208</td>\n      <td>0</td>\n      <td>1075.0</td>\n      <td>NaN</td>\n      <td>NaN</td>\n      <td>0</td>\n      <td>225000.0</td>\n      <td>171342.0</td>\n      <td>NaN</td>\n      <td>0.0</td>\n      <td>Credit card</td>\n      <td>-20</td>\n      <td>NaN</td>\n    </tr>\n  </tbody>\n</table>\n</div>"
     },
     "metadata": {},
     "output_type": "display_data"
    },
    {
     "name": "stdout",
     "output_type": "stream",
     "text": [
      "<class 'pandas.core.frame.DataFrame'>\n",
      "RangeIndex: 1716428 entries, 0 to 1716427\n",
      "Data columns (total 17 columns):\n",
      " #   Column                  Dtype  \n",
      "---  ------                  -----  \n",
      " 0   SK_ID_CURR              int64  \n",
      " 1   SK_ID_BUREAU            int64  \n",
      " 2   CREDIT_ACTIVE           object \n",
      " 3   CREDIT_CURRENCY         object \n",
      " 4   DAYS_CREDIT             int64  \n",
      " 5   CREDIT_DAY_OVERDUE      int64  \n",
      " 6   DAYS_CREDIT_ENDDATE     float64\n",
      " 7   DAYS_ENDDATE_FACT       float64\n",
      " 8   AMT_CREDIT_MAX_OVERDUE  float64\n",
      " 9   CNT_CREDIT_PROLONG      int64  \n",
      " 10  AMT_CREDIT_SUM          float64\n",
      " 11  AMT_CREDIT_SUM_DEBT     float64\n",
      " 12  AMT_CREDIT_SUM_LIMIT    float64\n",
      " 13  AMT_CREDIT_SUM_OVERDUE  float64\n",
      " 14  CREDIT_TYPE             object \n",
      " 15  DAYS_CREDIT_UPDATE      int64  \n",
      " 16  AMT_ANNUITY             float64\n",
      "dtypes: float64(8), int64(6), object(3)\n",
      "memory usage: 222.6+ MB\n"
     ]
    },
    {
     "data": {
      "text/plain": "None"
     },
     "metadata": {},
     "output_type": "display_data"
    },
    {
     "name": "stdout",
     "output_type": "stream",
     "text": [
      "___Loading raw dataset___\n",
      "Initial shape : (27299925, 3)\n",
      "This is the dataset n°3 : bureau_balance\n"
     ]
    },
    {
     "data": {
      "text/plain": "   SK_ID_BUREAU  MONTHS_BALANCE STATUS\n0       5715448               0      C\n1       5715448              -1      C",
      "text/html": "<div>\n<style scoped>\n    .dataframe tbody tr th:only-of-type {\n        vertical-align: middle;\n    }\n\n    .dataframe tbody tr th {\n        vertical-align: top;\n    }\n\n    .dataframe thead th {\n        text-align: right;\n    }\n</style>\n<table border=\"1\" class=\"dataframe\">\n  <thead>\n    <tr style=\"text-align: right;\">\n      <th></th>\n      <th>SK_ID_BUREAU</th>\n      <th>MONTHS_BALANCE</th>\n      <th>STATUS</th>\n    </tr>\n  </thead>\n  <tbody>\n    <tr>\n      <th>0</th>\n      <td>5715448</td>\n      <td>0</td>\n      <td>C</td>\n    </tr>\n    <tr>\n      <th>1</th>\n      <td>5715448</td>\n      <td>-1</td>\n      <td>C</td>\n    </tr>\n  </tbody>\n</table>\n</div>"
     },
     "metadata": {},
     "output_type": "display_data"
    },
    {
     "name": "stdout",
     "output_type": "stream",
     "text": [
      "<class 'pandas.core.frame.DataFrame'>\n",
      "RangeIndex: 27299925 entries, 0 to 27299924\n",
      "Data columns (total 3 columns):\n",
      " #   Column          Dtype \n",
      "---  ------          ----- \n",
      " 0   SK_ID_BUREAU    int64 \n",
      " 1   MONTHS_BALANCE  int64 \n",
      " 2   STATUS          object\n",
      "dtypes: int64(2), object(1)\n",
      "memory usage: 624.8+ MB\n"
     ]
    },
    {
     "data": {
      "text/plain": "None"
     },
     "metadata": {},
     "output_type": "display_data"
    },
    {
     "name": "stdout",
     "output_type": "stream",
     "text": [
      "___Loading raw dataset___\n",
      "Initial shape : (3840312, 23)\n",
      "This is the dataset n°4 : credit_card_balance\n"
     ]
    },
    {
     "data": {
      "text/plain": "   SK_ID_PREV  SK_ID_CURR  MONTHS_BALANCE  AMT_BALANCE  \\\n0     2562384      378907              -6       56.970   \n1     2582071      363914              -1    63975.555   \n\n   AMT_CREDIT_LIMIT_ACTUAL  AMT_DRAWINGS_ATM_CURRENT  AMT_DRAWINGS_CURRENT  \\\n0                   135000                       0.0                 877.5   \n1                    45000                    2250.0                2250.0   \n\n   AMT_DRAWINGS_OTHER_CURRENT  AMT_DRAWINGS_POS_CURRENT  \\\n0                         0.0                     877.5   \n1                         0.0                       0.0   \n\n   AMT_INST_MIN_REGULARITY  ...  AMT_RECIVABLE  AMT_TOTAL_RECEIVABLE  \\\n0                 1700.325  ...          0.000                 0.000   \n1                 2250.000  ...      64875.555             64875.555   \n\n   CNT_DRAWINGS_ATM_CURRENT  CNT_DRAWINGS_CURRENT  CNT_DRAWINGS_OTHER_CURRENT  \\\n0                       0.0                     1                         0.0   \n1                       1.0                     1                         0.0   \n\n   CNT_DRAWINGS_POS_CURRENT  CNT_INSTALMENT_MATURE_CUM  NAME_CONTRACT_STATUS  \\\n0                       1.0                       35.0                Active   \n1                       0.0                       69.0                Active   \n\n   SK_DPD  SK_DPD_DEF  \n0       0           0  \n1       0           0  \n\n[2 rows x 23 columns]",
      "text/html": "<div>\n<style scoped>\n    .dataframe tbody tr th:only-of-type {\n        vertical-align: middle;\n    }\n\n    .dataframe tbody tr th {\n        vertical-align: top;\n    }\n\n    .dataframe thead th {\n        text-align: right;\n    }\n</style>\n<table border=\"1\" class=\"dataframe\">\n  <thead>\n    <tr style=\"text-align: right;\">\n      <th></th>\n      <th>SK_ID_PREV</th>\n      <th>SK_ID_CURR</th>\n      <th>MONTHS_BALANCE</th>\n      <th>AMT_BALANCE</th>\n      <th>AMT_CREDIT_LIMIT_ACTUAL</th>\n      <th>AMT_DRAWINGS_ATM_CURRENT</th>\n      <th>AMT_DRAWINGS_CURRENT</th>\n      <th>AMT_DRAWINGS_OTHER_CURRENT</th>\n      <th>AMT_DRAWINGS_POS_CURRENT</th>\n      <th>AMT_INST_MIN_REGULARITY</th>\n      <th>...</th>\n      <th>AMT_RECIVABLE</th>\n      <th>AMT_TOTAL_RECEIVABLE</th>\n      <th>CNT_DRAWINGS_ATM_CURRENT</th>\n      <th>CNT_DRAWINGS_CURRENT</th>\n      <th>CNT_DRAWINGS_OTHER_CURRENT</th>\n      <th>CNT_DRAWINGS_POS_CURRENT</th>\n      <th>CNT_INSTALMENT_MATURE_CUM</th>\n      <th>NAME_CONTRACT_STATUS</th>\n      <th>SK_DPD</th>\n      <th>SK_DPD_DEF</th>\n    </tr>\n  </thead>\n  <tbody>\n    <tr>\n      <th>0</th>\n      <td>2562384</td>\n      <td>378907</td>\n      <td>-6</td>\n      <td>56.970</td>\n      <td>135000</td>\n      <td>0.0</td>\n      <td>877.5</td>\n      <td>0.0</td>\n      <td>877.5</td>\n      <td>1700.325</td>\n      <td>...</td>\n      <td>0.000</td>\n      <td>0.000</td>\n      <td>0.0</td>\n      <td>1</td>\n      <td>0.0</td>\n      <td>1.0</td>\n      <td>35.0</td>\n      <td>Active</td>\n      <td>0</td>\n      <td>0</td>\n    </tr>\n    <tr>\n      <th>1</th>\n      <td>2582071</td>\n      <td>363914</td>\n      <td>-1</td>\n      <td>63975.555</td>\n      <td>45000</td>\n      <td>2250.0</td>\n      <td>2250.0</td>\n      <td>0.0</td>\n      <td>0.0</td>\n      <td>2250.000</td>\n      <td>...</td>\n      <td>64875.555</td>\n      <td>64875.555</td>\n      <td>1.0</td>\n      <td>1</td>\n      <td>0.0</td>\n      <td>0.0</td>\n      <td>69.0</td>\n      <td>Active</td>\n      <td>0</td>\n      <td>0</td>\n    </tr>\n  </tbody>\n</table>\n<p>2 rows × 23 columns</p>\n</div>"
     },
     "metadata": {},
     "output_type": "display_data"
    },
    {
     "name": "stdout",
     "output_type": "stream",
     "text": [
      "<class 'pandas.core.frame.DataFrame'>\n",
      "RangeIndex: 3840312 entries, 0 to 3840311\n",
      "Data columns (total 23 columns):\n",
      " #   Column                      Dtype  \n",
      "---  ------                      -----  \n",
      " 0   SK_ID_PREV                  int64  \n",
      " 1   SK_ID_CURR                  int64  \n",
      " 2   MONTHS_BALANCE              int64  \n",
      " 3   AMT_BALANCE                 float64\n",
      " 4   AMT_CREDIT_LIMIT_ACTUAL     int64  \n",
      " 5   AMT_DRAWINGS_ATM_CURRENT    float64\n",
      " 6   AMT_DRAWINGS_CURRENT        float64\n",
      " 7   AMT_DRAWINGS_OTHER_CURRENT  float64\n",
      " 8   AMT_DRAWINGS_POS_CURRENT    float64\n",
      " 9   AMT_INST_MIN_REGULARITY     float64\n",
      " 10  AMT_PAYMENT_CURRENT         float64\n",
      " 11  AMT_PAYMENT_TOTAL_CURRENT   float64\n",
      " 12  AMT_RECEIVABLE_PRINCIPAL    float64\n",
      " 13  AMT_RECIVABLE               float64\n",
      " 14  AMT_TOTAL_RECEIVABLE        float64\n",
      " 15  CNT_DRAWINGS_ATM_CURRENT    float64\n",
      " 16  CNT_DRAWINGS_CURRENT        int64  \n",
      " 17  CNT_DRAWINGS_OTHER_CURRENT  float64\n",
      " 18  CNT_DRAWINGS_POS_CURRENT    float64\n",
      " 19  CNT_INSTALMENT_MATURE_CUM   float64\n",
      " 20  NAME_CONTRACT_STATUS        object \n",
      " 21  SK_DPD                      int64  \n",
      " 22  SK_DPD_DEF                  int64  \n",
      "dtypes: float64(15), int64(7), object(1)\n",
      "memory usage: 673.9+ MB\n"
     ]
    },
    {
     "data": {
      "text/plain": "None"
     },
     "metadata": {},
     "output_type": "display_data"
    },
    {
     "name": "stdout",
     "output_type": "stream",
     "text": [
      "___Loading raw dataset___\n",
      "Initial shape : (219, 5)\n",
      "This is the dataset n°5 : HomeCredit_columns_description\n"
     ]
    },
    {
     "data": {
      "text/plain": "   Unnamed: 0                         Table         Row  \\\n0           1  application_{train|test}.csv  SK_ID_CURR   \n1           2  application_{train|test}.csv      TARGET   \n\n                                         Description Special  \n0                           ID of loan in our sample     NaN  \n1  Target variable (1 - client with payment diffi...     NaN  ",
      "text/html": "<div>\n<style scoped>\n    .dataframe tbody tr th:only-of-type {\n        vertical-align: middle;\n    }\n\n    .dataframe tbody tr th {\n        vertical-align: top;\n    }\n\n    .dataframe thead th {\n        text-align: right;\n    }\n</style>\n<table border=\"1\" class=\"dataframe\">\n  <thead>\n    <tr style=\"text-align: right;\">\n      <th></th>\n      <th>Unnamed: 0</th>\n      <th>Table</th>\n      <th>Row</th>\n      <th>Description</th>\n      <th>Special</th>\n    </tr>\n  </thead>\n  <tbody>\n    <tr>\n      <th>0</th>\n      <td>1</td>\n      <td>application_{train|test}.csv</td>\n      <td>SK_ID_CURR</td>\n      <td>ID of loan in our sample</td>\n      <td>NaN</td>\n    </tr>\n    <tr>\n      <th>1</th>\n      <td>2</td>\n      <td>application_{train|test}.csv</td>\n      <td>TARGET</td>\n      <td>Target variable (1 - client with payment diffi...</td>\n      <td>NaN</td>\n    </tr>\n  </tbody>\n</table>\n</div>"
     },
     "metadata": {},
     "output_type": "display_data"
    },
    {
     "name": "stdout",
     "output_type": "stream",
     "text": [
      "<class 'pandas.core.frame.DataFrame'>\n",
      "RangeIndex: 219 entries, 0 to 218\n",
      "Data columns (total 5 columns):\n",
      " #   Column       Non-Null Count  Dtype \n",
      "---  ------       --------------  ----- \n",
      " 0   Unnamed: 0   219 non-null    int64 \n",
      " 1   Table        219 non-null    object\n",
      " 2   Row          219 non-null    object\n",
      " 3   Description  219 non-null    object\n",
      " 4   Special      86 non-null     object\n",
      "dtypes: int64(1), object(4)\n",
      "memory usage: 8.7+ KB\n"
     ]
    },
    {
     "data": {
      "text/plain": "None"
     },
     "metadata": {},
     "output_type": "display_data"
    },
    {
     "name": "stdout",
     "output_type": "stream",
     "text": [
      "___Loading raw dataset___\n",
      "Initial shape : (13605401, 8)\n",
      "This is the dataset n°6 : installments_payments\n"
     ]
    },
    {
     "data": {
      "text/plain": "   SK_ID_PREV  SK_ID_CURR  NUM_INSTALMENT_VERSION  NUM_INSTALMENT_NUMBER  \\\n0     1054186      161674                     1.0                      6   \n1     1330831      151639                     0.0                     34   \n\n   DAYS_INSTALMENT  DAYS_ENTRY_PAYMENT  AMT_INSTALMENT  AMT_PAYMENT  \n0          -1180.0             -1187.0        6948.360     6948.360  \n1          -2156.0             -2156.0        1716.525     1716.525  ",
      "text/html": "<div>\n<style scoped>\n    .dataframe tbody tr th:only-of-type {\n        vertical-align: middle;\n    }\n\n    .dataframe tbody tr th {\n        vertical-align: top;\n    }\n\n    .dataframe thead th {\n        text-align: right;\n    }\n</style>\n<table border=\"1\" class=\"dataframe\">\n  <thead>\n    <tr style=\"text-align: right;\">\n      <th></th>\n      <th>SK_ID_PREV</th>\n      <th>SK_ID_CURR</th>\n      <th>NUM_INSTALMENT_VERSION</th>\n      <th>NUM_INSTALMENT_NUMBER</th>\n      <th>DAYS_INSTALMENT</th>\n      <th>DAYS_ENTRY_PAYMENT</th>\n      <th>AMT_INSTALMENT</th>\n      <th>AMT_PAYMENT</th>\n    </tr>\n  </thead>\n  <tbody>\n    <tr>\n      <th>0</th>\n      <td>1054186</td>\n      <td>161674</td>\n      <td>1.0</td>\n      <td>6</td>\n      <td>-1180.0</td>\n      <td>-1187.0</td>\n      <td>6948.360</td>\n      <td>6948.360</td>\n    </tr>\n    <tr>\n      <th>1</th>\n      <td>1330831</td>\n      <td>151639</td>\n      <td>0.0</td>\n      <td>34</td>\n      <td>-2156.0</td>\n      <td>-2156.0</td>\n      <td>1716.525</td>\n      <td>1716.525</td>\n    </tr>\n  </tbody>\n</table>\n</div>"
     },
     "metadata": {},
     "output_type": "display_data"
    },
    {
     "name": "stdout",
     "output_type": "stream",
     "text": [
      "<class 'pandas.core.frame.DataFrame'>\n",
      "RangeIndex: 13605401 entries, 0 to 13605400\n",
      "Data columns (total 8 columns):\n",
      " #   Column                  Dtype  \n",
      "---  ------                  -----  \n",
      " 0   SK_ID_PREV              int64  \n",
      " 1   SK_ID_CURR              int64  \n",
      " 2   NUM_INSTALMENT_VERSION  float64\n",
      " 3   NUM_INSTALMENT_NUMBER   int64  \n",
      " 4   DAYS_INSTALMENT         float64\n",
      " 5   DAYS_ENTRY_PAYMENT      float64\n",
      " 6   AMT_INSTALMENT          float64\n",
      " 7   AMT_PAYMENT             float64\n",
      "dtypes: float64(5), int64(3)\n",
      "memory usage: 830.4 MB\n"
     ]
    },
    {
     "data": {
      "text/plain": "None"
     },
     "metadata": {},
     "output_type": "display_data"
    },
    {
     "name": "stdout",
     "output_type": "stream",
     "text": [
      "___Loading raw dataset___\n",
      "Initial shape : (10001358, 8)\n",
      "This is the dataset n°7 : POS_CASH_balance\n"
     ]
    },
    {
     "data": {
      "text/plain": "   SK_ID_PREV  SK_ID_CURR  MONTHS_BALANCE  CNT_INSTALMENT  \\\n0     1803195      182943             -31            48.0   \n1     1715348      367990             -33            36.0   \n\n   CNT_INSTALMENT_FUTURE NAME_CONTRACT_STATUS  SK_DPD  SK_DPD_DEF  \n0                   45.0               Active       0           0  \n1                   35.0               Active       0           0  ",
      "text/html": "<div>\n<style scoped>\n    .dataframe tbody tr th:only-of-type {\n        vertical-align: middle;\n    }\n\n    .dataframe tbody tr th {\n        vertical-align: top;\n    }\n\n    .dataframe thead th {\n        text-align: right;\n    }\n</style>\n<table border=\"1\" class=\"dataframe\">\n  <thead>\n    <tr style=\"text-align: right;\">\n      <th></th>\n      <th>SK_ID_PREV</th>\n      <th>SK_ID_CURR</th>\n      <th>MONTHS_BALANCE</th>\n      <th>CNT_INSTALMENT</th>\n      <th>CNT_INSTALMENT_FUTURE</th>\n      <th>NAME_CONTRACT_STATUS</th>\n      <th>SK_DPD</th>\n      <th>SK_DPD_DEF</th>\n    </tr>\n  </thead>\n  <tbody>\n    <tr>\n      <th>0</th>\n      <td>1803195</td>\n      <td>182943</td>\n      <td>-31</td>\n      <td>48.0</td>\n      <td>45.0</td>\n      <td>Active</td>\n      <td>0</td>\n      <td>0</td>\n    </tr>\n    <tr>\n      <th>1</th>\n      <td>1715348</td>\n      <td>367990</td>\n      <td>-33</td>\n      <td>36.0</td>\n      <td>35.0</td>\n      <td>Active</td>\n      <td>0</td>\n      <td>0</td>\n    </tr>\n  </tbody>\n</table>\n</div>"
     },
     "metadata": {},
     "output_type": "display_data"
    },
    {
     "name": "stdout",
     "output_type": "stream",
     "text": [
      "<class 'pandas.core.frame.DataFrame'>\n",
      "RangeIndex: 10001358 entries, 0 to 10001357\n",
      "Data columns (total 8 columns):\n",
      " #   Column                 Dtype  \n",
      "---  ------                 -----  \n",
      " 0   SK_ID_PREV             int64  \n",
      " 1   SK_ID_CURR             int64  \n",
      " 2   MONTHS_BALANCE         int64  \n",
      " 3   CNT_INSTALMENT         float64\n",
      " 4   CNT_INSTALMENT_FUTURE  float64\n",
      " 5   NAME_CONTRACT_STATUS   object \n",
      " 6   SK_DPD                 int64  \n",
      " 7   SK_DPD_DEF             int64  \n",
      "dtypes: float64(2), int64(5), object(1)\n",
      "memory usage: 610.4+ MB\n"
     ]
    },
    {
     "data": {
      "text/plain": "None"
     },
     "metadata": {},
     "output_type": "display_data"
    },
    {
     "name": "stdout",
     "output_type": "stream",
     "text": [
      "___Loading raw dataset___\n",
      "Initial shape : (1670214, 37)\n",
      "This is the dataset n°8 : previous_application\n"
     ]
    },
    {
     "data": {
      "text/plain": "   SK_ID_PREV  SK_ID_CURR NAME_CONTRACT_TYPE  AMT_ANNUITY  AMT_APPLICATION  \\\n0     2030495      271877     Consumer loans     1730.430          17145.0   \n1     2802425      108129         Cash loans    25188.615         607500.0   \n\n   AMT_CREDIT  AMT_DOWN_PAYMENT  AMT_GOODS_PRICE WEEKDAY_APPR_PROCESS_START  \\\n0     17145.0               0.0          17145.0                   SATURDAY   \n1    679671.0               NaN         607500.0                   THURSDAY   \n\n   HOUR_APPR_PROCESS_START  ... NAME_SELLER_INDUSTRY  CNT_PAYMENT  \\\n0                       15  ...         Connectivity         12.0   \n1                       11  ...                  XNA         36.0   \n\n   NAME_YIELD_GROUP       PRODUCT_COMBINATION  DAYS_FIRST_DRAWING  \\\n0            middle  POS mobile with interest            365243.0   \n1        low_action          Cash X-Sell: low            365243.0   \n\n  DAYS_FIRST_DUE DAYS_LAST_DUE_1ST_VERSION  DAYS_LAST_DUE DAYS_TERMINATION  \\\n0          -42.0                     300.0          -42.0            -37.0   \n1         -134.0                     916.0       365243.0         365243.0   \n\n  NFLAG_INSURED_ON_APPROVAL  \n0                       0.0  \n1                       1.0  \n\n[2 rows x 37 columns]",
      "text/html": "<div>\n<style scoped>\n    .dataframe tbody tr th:only-of-type {\n        vertical-align: middle;\n    }\n\n    .dataframe tbody tr th {\n        vertical-align: top;\n    }\n\n    .dataframe thead th {\n        text-align: right;\n    }\n</style>\n<table border=\"1\" class=\"dataframe\">\n  <thead>\n    <tr style=\"text-align: right;\">\n      <th></th>\n      <th>SK_ID_PREV</th>\n      <th>SK_ID_CURR</th>\n      <th>NAME_CONTRACT_TYPE</th>\n      <th>AMT_ANNUITY</th>\n      <th>AMT_APPLICATION</th>\n      <th>AMT_CREDIT</th>\n      <th>AMT_DOWN_PAYMENT</th>\n      <th>AMT_GOODS_PRICE</th>\n      <th>WEEKDAY_APPR_PROCESS_START</th>\n      <th>HOUR_APPR_PROCESS_START</th>\n      <th>...</th>\n      <th>NAME_SELLER_INDUSTRY</th>\n      <th>CNT_PAYMENT</th>\n      <th>NAME_YIELD_GROUP</th>\n      <th>PRODUCT_COMBINATION</th>\n      <th>DAYS_FIRST_DRAWING</th>\n      <th>DAYS_FIRST_DUE</th>\n      <th>DAYS_LAST_DUE_1ST_VERSION</th>\n      <th>DAYS_LAST_DUE</th>\n      <th>DAYS_TERMINATION</th>\n      <th>NFLAG_INSURED_ON_APPROVAL</th>\n    </tr>\n  </thead>\n  <tbody>\n    <tr>\n      <th>0</th>\n      <td>2030495</td>\n      <td>271877</td>\n      <td>Consumer loans</td>\n      <td>1730.430</td>\n      <td>17145.0</td>\n      <td>17145.0</td>\n      <td>0.0</td>\n      <td>17145.0</td>\n      <td>SATURDAY</td>\n      <td>15</td>\n      <td>...</td>\n      <td>Connectivity</td>\n      <td>12.0</td>\n      <td>middle</td>\n      <td>POS mobile with interest</td>\n      <td>365243.0</td>\n      <td>-42.0</td>\n      <td>300.0</td>\n      <td>-42.0</td>\n      <td>-37.0</td>\n      <td>0.0</td>\n    </tr>\n    <tr>\n      <th>1</th>\n      <td>2802425</td>\n      <td>108129</td>\n      <td>Cash loans</td>\n      <td>25188.615</td>\n      <td>607500.0</td>\n      <td>679671.0</td>\n      <td>NaN</td>\n      <td>607500.0</td>\n      <td>THURSDAY</td>\n      <td>11</td>\n      <td>...</td>\n      <td>XNA</td>\n      <td>36.0</td>\n      <td>low_action</td>\n      <td>Cash X-Sell: low</td>\n      <td>365243.0</td>\n      <td>-134.0</td>\n      <td>916.0</td>\n      <td>365243.0</td>\n      <td>365243.0</td>\n      <td>1.0</td>\n    </tr>\n  </tbody>\n</table>\n<p>2 rows × 37 columns</p>\n</div>"
     },
     "metadata": {},
     "output_type": "display_data"
    },
    {
     "name": "stdout",
     "output_type": "stream",
     "text": [
      "<class 'pandas.core.frame.DataFrame'>\n",
      "RangeIndex: 1670214 entries, 0 to 1670213\n",
      "Data columns (total 37 columns):\n",
      " #   Column                       Non-Null Count    Dtype  \n",
      "---  ------                       --------------    -----  \n",
      " 0   SK_ID_PREV                   1670214 non-null  int64  \n",
      " 1   SK_ID_CURR                   1670214 non-null  int64  \n",
      " 2   NAME_CONTRACT_TYPE           1670214 non-null  object \n",
      " 3   AMT_ANNUITY                  1297979 non-null  float64\n",
      " 4   AMT_APPLICATION              1670214 non-null  float64\n",
      " 5   AMT_CREDIT                   1670213 non-null  float64\n",
      " 6   AMT_DOWN_PAYMENT             774370 non-null   float64\n",
      " 7   AMT_GOODS_PRICE              1284699 non-null  float64\n",
      " 8   WEEKDAY_APPR_PROCESS_START   1670214 non-null  object \n",
      " 9   HOUR_APPR_PROCESS_START      1670214 non-null  int64  \n",
      " 10  FLAG_LAST_APPL_PER_CONTRACT  1670214 non-null  object \n",
      " 11  NFLAG_LAST_APPL_IN_DAY       1670214 non-null  int64  \n",
      " 12  RATE_DOWN_PAYMENT            774370 non-null   float64\n",
      " 13  RATE_INTEREST_PRIMARY        5951 non-null     float64\n",
      " 14  RATE_INTEREST_PRIVILEGED     5951 non-null     float64\n",
      " 15  NAME_CASH_LOAN_PURPOSE       1670214 non-null  object \n",
      " 16  NAME_CONTRACT_STATUS         1670214 non-null  object \n",
      " 17  DAYS_DECISION                1670214 non-null  int64  \n",
      " 18  NAME_PAYMENT_TYPE            1670214 non-null  object \n",
      " 19  CODE_REJECT_REASON           1670214 non-null  object \n",
      " 20  NAME_TYPE_SUITE              849809 non-null   object \n",
      " 21  NAME_CLIENT_TYPE             1670214 non-null  object \n",
      " 22  NAME_GOODS_CATEGORY          1670214 non-null  object \n",
      " 23  NAME_PORTFOLIO               1670214 non-null  object \n",
      " 24  NAME_PRODUCT_TYPE            1670214 non-null  object \n",
      " 25  CHANNEL_TYPE                 1670214 non-null  object \n",
      " 26  SELLERPLACE_AREA             1670214 non-null  int64  \n",
      " 27  NAME_SELLER_INDUSTRY         1670214 non-null  object \n",
      " 28  CNT_PAYMENT                  1297984 non-null  float64\n",
      " 29  NAME_YIELD_GROUP             1670214 non-null  object \n",
      " 30  PRODUCT_COMBINATION          1669868 non-null  object \n",
      " 31  DAYS_FIRST_DRAWING           997149 non-null   float64\n",
      " 32  DAYS_FIRST_DUE               997149 non-null   float64\n",
      " 33  DAYS_LAST_DUE_1ST_VERSION    997149 non-null   float64\n",
      " 34  DAYS_LAST_DUE                997149 non-null   float64\n",
      " 35  DAYS_TERMINATION             997149 non-null   float64\n",
      " 36  NFLAG_INSURED_ON_APPROVAL    997149 non-null   float64\n",
      "dtypes: float64(15), int64(6), object(16)\n",
      "memory usage: 471.5+ MB\n"
     ]
    },
    {
     "data": {
      "text/plain": "None"
     },
     "metadata": {},
     "output_type": "display_data"
    }
   ],
   "source": [
    "all_datasets = []\n",
    "\n",
    "for index, dataset_csv in enumerate(all_csv_files):\n",
    "    name = dataset_csv.split(\".\")[0]\n",
    "    #if name.startswith(\"olist\"):\n",
    "     #   list_name = name.split(\"_\")[1:-1]\n",
    "      #  name = \"_\".join(list_name)\n",
    "    # we make the dataset as a global variable so we can use it later in the notebook\n",
    "    globals()[\"dataset_\" + name] = load_data(input_path, dataset_csv)\n",
    "\n",
    "    # we add the dataset to the list of all datasets.\n",
    "    #all_datasets.append(globals()[\"dataset_\" + name])\n",
    "\n",
    "    print(\"This is the dataset n°{} : {}\".format(index + 1, name))\n",
    "    df = globals()[\"dataset_\" + name]\n",
    "    all_datasets.append((\"dataset_\" + name, df))\n",
    "    display(df.head(2))\n",
    "    display(df.info(verbose=True))"
   ],
   "metadata": {
    "collapsed": false,
    "pycharm": {
     "name": "#%%\n"
    }
   }
  },
  {
   "cell_type": "code",
   "execution_count": 6,
   "outputs": [],
   "source": [],
   "metadata": {
    "collapsed": false,
    "pycharm": {
     "name": "#%%\n"
    }
   }
  },
  {
   "cell_type": "code",
   "execution_count": 6,
   "outputs": [],
   "source": [],
   "metadata": {
    "collapsed": false,
    "pycharm": {
     "name": "#%%\n"
    }
   }
  },
  {
   "cell_type": "markdown",
   "source": [
    "For each dataset, we display its dimension and if it has missing values (NaN)"
   ],
   "metadata": {
    "collapsed": false,
    "pycharm": {
     "name": "#%% md\n"
    }
   }
  },
  {
   "cell_type": "code",
   "execution_count": 7,
   "outputs": [
    {
     "name": "stdout",
     "output_type": "stream",
     "text": [
      "Shape dataset\n",
      "The dataset called : dataset_application_train has a shape : (307511, 122)\n",
      "The dataset called : dataset_bureau has a shape : (1716428, 17)\n",
      "The dataset called : dataset_bureau_balance has a shape : (27299925, 3)\n",
      "The dataset called : dataset_credit_card_balance has a shape : (3840312, 23)\n",
      "The dataset called : dataset_HomeCredit_columns_description has a shape : (219, 5)\n",
      "The dataset called : dataset_installments_payments has a shape : (13605401, 8)\n",
      "The dataset called : dataset_POS_CASH_balance has a shape : (10001358, 8)\n",
      "The dataset called : dataset_previous_application has a shape : (1670214, 37)\n"
     ]
    }
   ],
   "source": [
    "print(\"Shape dataset\")\n",
    "for tuple_df in all_datasets :\n",
    "    print(\"The dataset called :\", tuple_df[0], \"has a shape :\", tuple_df[1].shape)"
   ],
   "metadata": {
    "collapsed": false,
    "pycharm": {
     "name": "#%%\n"
    }
   }
  },
  {
   "cell_type": "code",
   "execution_count": 8,
   "outputs": [
    {
     "name": "stdout",
     "output_type": "stream",
     "text": [
      "Missing values\n",
      "The dataset called : dataset_application_train has : 24 % of missing values.\n",
      "The dataset called : dataset_bureau has : 14 % of missing values.\n",
      "The dataset called : dataset_bureau_balance has : 0 % of missing values.\n",
      "The dataset called : dataset_credit_card_balance has : 7 % of missing values.\n",
      "The dataset called : dataset_HomeCredit_columns_description has : 12 % of missing values.\n",
      "The dataset called : dataset_installments_payments has : 0 % of missing values.\n",
      "The dataset called : dataset_POS_CASH_balance has : 0 % of missing values.\n",
      "The dataset called : dataset_previous_application has : 18 % of missing values.\n"
     ]
    }
   ],
   "source": [
    "print(\"Missing values\")\n",
    "for tuple_df in all_datasets :\n",
    "    df = tuple_df[1]\n",
    "    print(\"The dataset called :\", tuple_df[0], \"has :\", round(df.isna().sum().sum() / (df.shape[0] * df.shape[1]) * 100), \"% of missing values.\")"
   ],
   "metadata": {
    "collapsed": false,
    "pycharm": {
     "name": "#%%\n"
    }
   }
  },
  {
   "cell_type": "code",
   "execution_count": 9,
   "outputs": [
    {
     "data": {
      "text/plain": "SK_ID_CURR                        0\nTARGET                            0\nNAME_CONTRACT_TYPE                0\nCODE_GENDER                       0\nFLAG_OWN_CAR                      0\n                              ...  \nAMT_REQ_CREDIT_BUREAU_DAY     41519\nAMT_REQ_CREDIT_BUREAU_WEEK    41519\nAMT_REQ_CREDIT_BUREAU_MON     41519\nAMT_REQ_CREDIT_BUREAU_QRT     41519\nAMT_REQ_CREDIT_BUREAU_YEAR    41519\nLength: 122, dtype: int64"
     },
     "execution_count": 9,
     "metadata": {},
     "output_type": "execute_result"
    }
   ],
   "source": [
    "dataset_application_train.isna().sum(axis=0)"
   ],
   "metadata": {
    "collapsed": false,
    "pycharm": {
     "name": "#%%\n"
    }
   }
  },
  {
   "cell_type": "code",
   "execution_count": 10,
   "outputs": [
    {
     "name": "stdout",
     "output_type": "stream",
     "text": [
      "Duplicated rows ?\n",
      "The dataset called : dataset_application_train has : 0 duplicated rows.\n",
      "The dataset called : dataset_bureau has : 0 duplicated rows.\n",
      "The dataset called : dataset_bureau_balance has : 0 duplicated rows.\n",
      "The dataset called : dataset_credit_card_balance has : 0 duplicated rows.\n",
      "The dataset called : dataset_HomeCredit_columns_description has : 0 duplicated rows.\n",
      "The dataset called : dataset_installments_payments has : 0 duplicated rows.\n",
      "The dataset called : dataset_POS_CASH_balance has : 0 duplicated rows.\n",
      "The dataset called : dataset_previous_application has : 0 duplicated rows.\n"
     ]
    }
   ],
   "source": [
    "print(\"Duplicated rows ?\")\n",
    "for tuple_df in all_datasets:\n",
    "    print(\"The dataset called :\", tuple_df[0], \"has :\",tuple_df[1].duplicated().sum(), \"duplicated rows.\")"
   ],
   "metadata": {
    "collapsed": false,
    "pycharm": {
     "name": "#%%\n"
    }
   }
  },
  {
   "cell_type": "markdown",
   "source": [
    "##### Distribution of the target"
   ],
   "metadata": {
    "collapsed": false,
    "pycharm": {
     "name": "#%% md\n"
    }
   }
  },
  {
   "cell_type": "code",
   "execution_count": 11,
   "outputs": [
    {
     "data": {
      "text/plain": "<AxesSubplot:ylabel='TARGET'>"
     },
     "execution_count": 11,
     "metadata": {},
     "output_type": "execute_result"
    },
    {
     "data": {
      "text/plain": "<Figure size 432x288 with 1 Axes>",
      "image/png": "[encoded data removed]"
     },
     "metadata": {},
     "output_type": "display_data"
    }
   ],
   "source": [
    "dataset_application_train.TARGET.value_counts(normalize=True).plot(kind=\"pie\")"
   ],
   "metadata": {
    "collapsed": false,
    "pycharm": {
     "name": "#%%\n"
    }
   }
  },
  {
   "cell_type": "code",
   "execution_count": 12,
   "outputs": [
    {
     "data": {
      "text/plain": "0    0.919271\n1    0.080729\nName: TARGET, dtype: float64"
     },
     "execution_count": 12,
     "metadata": {},
     "output_type": "execute_result"
    }
   ],
   "source": [
    "dataset_application_train.TARGET.value_counts(normalize=True)"
   ],
   "metadata": {
    "collapsed": false,
    "pycharm": {
     "name": "#%%\n"
    }
   }
  },
  {
   "cell_type": "code",
   "execution_count": 13,
   "outputs": [
    {
     "name": "stdout",
     "output_type": "stream",
     "text": [
      "SMOTE to do\n"
     ]
    }
   ],
   "source": [
    "print(\"SMOTE to do\")"
   ],
   "metadata": {
    "collapsed": false,
    "pycharm": {
     "name": "#%%\n"
    }
   }
  },
  {
   "cell_type": "code",
   "execution_count": 13,
   "outputs": [],
   "source": [],
   "metadata": {
    "collapsed": false,
    "pycharm": {
     "name": "#%%\n"
    }
   }
  },
  {
   "cell_type": "code",
   "execution_count": 13,
   "outputs": [],
   "source": [],
   "metadata": {
    "collapsed": false,
    "pycharm": {
     "name": "#%%\n"
    }
   }
  },
  {
   "cell_type": "code",
   "execution_count": 13,
   "outputs": [],
   "source": [],
   "metadata": {
    "collapsed": false,
    "pycharm": {
     "name": "#%%\n"
    }
   }
  },
  {
   "cell_type": "markdown",
   "source": [
    "## Part II : Feature Engineering"
   ],
   "metadata": {
    "collapsed": false,
    "pycharm": {
     "name": "#%% md\n"
    }
   }
  },
  {
   "cell_type": "code",
   "execution_count": 13,
   "outputs": [],
   "source": [],
   "metadata": {
    "collapsed": false,
    "pycharm": {
     "name": "#%%\n"
    }
   }
  },
  {
   "cell_type": "markdown",
   "source": [
    "##### Kernel for the feature engineering (Kaggle : https://www.kaggle.com/code/jsaguiar/lightgbm-with-simple-features/script)"
   ],
   "metadata": {
    "collapsed": false,
    "pycharm": {
     "name": "#%% md\n"
    }
   }
  },
  {
   "cell_type": "code",
   "execution_count": 14,
   "outputs": [],
   "source": [
    "from feature_engineering import *\n",
    "import joblib\n",
    "from sklearn.model_selection import train_test_split\n",
    "from sklearn.preprocessing import StandardScaler, OneHotEncoder\n"
   ],
   "metadata": {
    "collapsed": false,
    "pycharm": {
     "name": "#%%\n"
    }
   }
  },
  {
   "cell_type": "code",
   "execution_count": 15,
   "outputs": [],
   "source": [
    "data = pd.read_csv(\"dataset/cleaned/df_cleaned.csv\")"
   ],
   "metadata": {
    "collapsed": false,
    "pycharm": {
     "name": "#%%\n"
    }
   }
  },
  {
   "cell_type": "code",
   "execution_count": 16,
   "outputs": [
    {
     "data": {
      "text/plain": "Empty DataFrame\nColumns: [SK_ID_CURR, TARGET, CODE_GENDER, FLAG_OWN_CAR, FLAG_OWN_REALTY, CNT_CHILDREN, AMT_INCOME_TOTAL, AMT_CREDIT, AMT_ANNUITY, AMT_GOODS_PRICE, REGION_POPULATION_RELATIVE, DAYS_BIRTH, DAYS_EMPLOYED, DAYS_REGISTRATION, DAYS_ID_PUBLISH, OWN_CAR_AGE, FLAG_MOBIL, FLAG_EMP_PHONE, FLAG_WORK_PHONE, FLAG_CONT_MOBILE, FLAG_PHONE, FLAG_EMAIL, CNT_FAM_MEMBERS, REGION_RATING_CLIENT, REGION_RATING_CLIENT_W_CITY, HOUR_APPR_PROCESS_START, REG_REGION_NOT_LIVE_REGION, REG_REGION_NOT_WORK_REGION, LIVE_REGION_NOT_WORK_REGION, REG_CITY_NOT_LIVE_CITY, REG_CITY_NOT_WORK_CITY, LIVE_CITY_NOT_WORK_CITY, EXT_SOURCE_1, EXT_SOURCE_2, EXT_SOURCE_3, APARTMENTS_AVG, BASEMENTAREA_AVG, YEARS_BEGINEXPLUATATION_AVG, YEARS_BUILD_AVG, COMMONAREA_AVG, ELEVATORS_AVG, ENTRANCES_AVG, FLOORSMAX_AVG, FLOORSMIN_AVG, LANDAREA_AVG, LIVINGAPARTMENTS_AVG, LIVINGAREA_AVG, NONLIVINGAPARTMENTS_AVG, NONLIVINGAREA_AVG, APARTMENTS_MODE, BASEMENTAREA_MODE, YEARS_BEGINEXPLUATATION_MODE, YEARS_BUILD_MODE, COMMONAREA_MODE, ELEVATORS_MODE, ENTRANCES_MODE, FLOORSMAX_MODE, FLOORSMIN_MODE, LANDAREA_MODE, LIVINGAPARTMENTS_MODE, LIVINGAREA_MODE, NONLIVINGAPARTMENTS_MODE, NONLIVINGAREA_MODE, APARTMENTS_MEDI, BASEMENTAREA_MEDI, YEARS_BEGINEXPLUATATION_MEDI, YEARS_BUILD_MEDI, COMMONAREA_MEDI, ELEVATORS_MEDI, ENTRANCES_MEDI, FLOORSMAX_MEDI, FLOORSMIN_MEDI, LANDAREA_MEDI, LIVINGAPARTMENTS_MEDI, LIVINGAREA_MEDI, NONLIVINGAPARTMENTS_MEDI, NONLIVINGAREA_MEDI, TOTALAREA_MODE, OBS_30_CNT_SOCIAL_CIRCLE, DEF_30_CNT_SOCIAL_CIRCLE, OBS_60_CNT_SOCIAL_CIRCLE, DEF_60_CNT_SOCIAL_CIRCLE, DAYS_LAST_PHONE_CHANGE, FLAG_DOCUMENT_2, FLAG_DOCUMENT_3, FLAG_DOCUMENT_4, FLAG_DOCUMENT_5, FLAG_DOCUMENT_6, FLAG_DOCUMENT_7, FLAG_DOCUMENT_8, FLAG_DOCUMENT_9, FLAG_DOCUMENT_10, FLAG_DOCUMENT_11, FLAG_DOCUMENT_12, FLAG_DOCUMENT_13, FLAG_DOCUMENT_14, FLAG_DOCUMENT_15, FLAG_DOCUMENT_16, FLAG_DOCUMENT_17, FLAG_DOCUMENT_18, ...]\nIndex: []\n\n[0 rows x 797 columns]",
      "text/html": "<div>\n<style scoped>\n    .dataframe tbody tr th:only-of-type {\n        vertical-align: middle;\n    }\n\n    .dataframe tbody tr th {\n        vertical-align: top;\n    }\n\n    .dataframe thead th {\n        text-align: right;\n    }\n</style>\n<table border=\"1\" class=\"dataframe\">\n  <thead>\n    <tr style=\"text-align: right;\">\n      <th></th>\n      <th>SK_ID_CURR</th>\n      <th>TARGET</th>\n      <th>CODE_GENDER</th>\n      <th>FLAG_OWN_CAR</th>\n      <th>FLAG_OWN_REALTY</th>\n      <th>CNT_CHILDREN</th>\n      <th>AMT_INCOME_TOTAL</th>\n      <th>AMT_CREDIT</th>\n      <th>AMT_ANNUITY</th>\n      <th>AMT_GOODS_PRICE</th>\n      <th>...</th>\n      <th>CC_NAME_CONTRACT_STATUS_Signed_MAX</th>\n      <th>CC_NAME_CONTRACT_STATUS_Signed_MEAN</th>\n      <th>CC_NAME_CONTRACT_STATUS_Signed_SUM</th>\n      <th>CC_NAME_CONTRACT_STATUS_Signed_VAR</th>\n      <th>CC_NAME_CONTRACT_STATUS_nan_MIN</th>\n      <th>CC_NAME_CONTRACT_STATUS_nan_MAX</th>\n      <th>CC_NAME_CONTRACT_STATUS_nan_MEAN</th>\n      <th>CC_NAME_CONTRACT_STATUS_nan_SUM</th>\n      <th>CC_NAME_CONTRACT_STATUS_nan_VAR</th>\n      <th>CC_COUNT</th>\n    </tr>\n  </thead>\n  <tbody>\n  </tbody>\n</table>\n<p>0 rows × 797 columns</p>\n</div>"
     },
     "execution_count": 16,
     "metadata": {},
     "output_type": "execute_result"
    }
   ],
   "source": [
    "data[data.TARGET.isna()]"
   ],
   "metadata": {
    "collapsed": false,
    "pycharm": {
     "name": "#%%\n"
    }
   }
  },
  {
   "cell_type": "code",
   "execution_count": 17,
   "outputs": [
    {
     "data": {
      "text/plain": "SK_ID_CURR                               0\nTARGET                                   0\nCODE_GENDER                              0\nFLAG_OWN_CAR                             0\nFLAG_OWN_REALTY                          0\n                                     ...  \nCC_NAME_CONTRACT_STATUS_nan_MAX     220602\nCC_NAME_CONTRACT_STATUS_nan_MEAN    220602\nCC_NAME_CONTRACT_STATUS_nan_SUM     220602\nCC_NAME_CONTRACT_STATUS_nan_VAR     221234\nCC_COUNT                            220602\nLength: 797, dtype: int64"
     },
     "execution_count": 17,
     "metadata": {},
     "output_type": "execute_result"
    }
   ],
   "source": [
    "data.isna().sum(axis=0)"
   ],
   "metadata": {
    "collapsed": false,
    "pycharm": {
     "name": "#%%\n"
    }
   }
  },
  {
   "cell_type": "code",
   "execution_count": 18,
   "outputs": [
    {
     "name": "stdout",
     "output_type": "stream",
     "text": [
      "(307507, 797)\n",
      "(307507, 796)\n",
      "(307507,)\n"
     ]
    }
   ],
   "source": [
    "print(data.shape)\n",
    "# exclude name column\n",
    "X = data.loc[:, data.columns != 'TARGET']\n",
    "print(X.shape)\n",
    "\n",
    "y = data.TARGET\n",
    "print(y.shape)"
   ],
   "metadata": {
    "collapsed": false,
    "pycharm": {
     "name": "#%%\n"
    }
   }
  },
  {
   "cell_type": "code",
   "execution_count": 114,
   "outputs": [],
   "source": [
    "# We create a training set and a test set (the test set contains 30% of the dataset)\n",
    "X_train, X_test, y_train, y_test = train_test_split(X, y, test_size=0.3, random_state=seed)"
   ],
   "metadata": {
    "collapsed": false,
    "pycharm": {
     "name": "#%%\n"
    }
   }
  },
  {
   "cell_type": "code",
   "execution_count": 113,
   "outputs": [
    {
     "name": "stdout",
     "output_type": "stream",
     "text": [
      "Loading LGBM\n"
     ]
    }
   ],
   "source": [
    "# Create arrays and dataframes to store results\n",
    "oof_preds = np.zeros(df.shape[0])\n",
    "# sub_preds = np.zeros(test_df.shape[0])\n",
    "\n",
    "# load model\n",
    "print(\"Loading LGBM\")\n",
    "clf_joblib = joblib.load('models/LGBM/LGBMClassifier_fold_0.joblib')"
   ],
   "metadata": {
    "collapsed": false,
    "pycharm": {
     "name": "#%%\n"
    }
   }
  },
  {
   "cell_type": "code",
   "execution_count": 21,
   "outputs": [
    {
     "data": {
      "text/plain": "Empty DataFrame\nColumns: []\nIndex: [0, 1, 2, 3, 4, 5, 6, 7, 8, 9, 10, 11, 12, 13, 14, 15, 16, 17, 18, 19, 20, 21, 22, 23, 24, 25, 26, 27, 28, 29, 30, 31, 32, 33, 34, 35, 36, 37, 38, 39, 40, 41, 42, 43, 44, 45, 46, 47, 48, 49, 50, 51, 52, 53, 54, 55, 56, 57, 58, 59, 60, 61, 62, 63, 64, 65, 66, 67, 68, 69, 70, 71, 72, 73, 74, 75, 76, 77, 78, 79, 80, 81, 82, 83, 84, 85, 86, 87, 88, 89, 90, 91, 92, 93, 94, 95, 96, 97, 98, 99, ...]\n\n[307507 rows x 0 columns]",
      "text/html": "<div>\n<style scoped>\n    .dataframe tbody tr th:only-of-type {\n        vertical-align: middle;\n    }\n\n    .dataframe tbody tr th {\n        vertical-align: top;\n    }\n\n    .dataframe thead th {\n        text-align: right;\n    }\n</style>\n<table border=\"1\" class=\"dataframe\">\n  <thead>\n    <tr style=\"text-align: right;\">\n      <th></th>\n    </tr>\n  </thead>\n  <tbody>\n    <tr>\n      <th>0</th>\n    </tr>\n    <tr>\n      <th>1</th>\n    </tr>\n    <tr>\n      <th>2</th>\n    </tr>\n    <tr>\n      <th>3</th>\n    </tr>\n    <tr>\n      <th>4</th>\n    </tr>\n    <tr>\n      <th>...</th>\n    </tr>\n    <tr>\n      <th>307502</th>\n    </tr>\n    <tr>\n      <th>307503</th>\n    </tr>\n    <tr>\n      <th>307504</th>\n    </tr>\n    <tr>\n      <th>307505</th>\n    </tr>\n    <tr>\n      <th>307506</th>\n    </tr>\n  </tbody>\n</table>\n<p>307507 rows × 0 columns</p>\n</div>"
     },
     "execution_count": 21,
     "metadata": {},
     "output_type": "execute_result"
    }
   ],
   "source": [
    "data.select_dtypes('object') # we don't have 'object' here but it is just in case.\n"
   ],
   "metadata": {
    "collapsed": false,
    "pycharm": {
     "name": "#%%\n"
    }
   }
  },
  {
   "cell_type": "code",
   "execution_count": 26,
   "outputs": [
    {
     "name": "stdout",
     "output_type": "stream",
     "text": [
      "Shape of categorical variables :  (13,)\n",
      "Shape of numerical variables : (109,)\n"
     ]
    }
   ],
   "source": [
    "categorical_columns = df.select_dtypes('object').columns\n",
    "numerical_columns = df.select_dtypes(include='number').columns\n",
    "#numerical_columns = X.select_dtypes(include='number').columns\n",
    "\n",
    "print(\"Shape of categorical variables : \", categorical_columns.shape)\n",
    "print(\"Shape of numerical variables :\", numerical_columns.shape)"
   ],
   "metadata": {
    "collapsed": false,
    "pycharm": {
     "name": "#%%\n"
    }
   }
  },
  {
   "cell_type": "code",
   "execution_count": 122,
   "outputs": [
    {
     "data": {
      "text/plain": "        CODE_GENDER  FLAG_OWN_CAR  FLAG_OWN_REALTY  CNT_CHILDREN  \\\n280616            0             1                1             0   \n147879            0             0                0             0   \n101811            1             0                0             0   \n248338            1             0                0             0   \n160567            1             0                0             0   \n...             ...           ...              ...           ...   \n19147             0             0                0             0   \n79014             1             0                0             0   \n219308            0             0                1             0   \n136835            0             1                0             0   \n20062             1             0                0             0   \n\n        AMT_INCOME_TOTAL  AMT_CREDIT  AMT_ANNUITY  AMT_GOODS_PRICE  \\\n280616          112500.0    314100.0      11767.5         225000.0   \n147879          450000.0    900000.0      85455.0         900000.0   \n101811          270000.0    528633.0      25560.0         472500.0   \n248338           81000.0    463500.0      31099.5         463500.0   \n160567          315000.0   1129500.0      33156.0        1129500.0   \n...                  ...         ...          ...              ...   \n19147           207000.0    630000.0      31500.0         630000.0   \n79014           112500.0    571446.0      18562.5         477000.0   \n219308          180000.0    288562.5      19413.0         261000.0   \n136835          630000.0    990000.0      42075.0         990000.0   \n20062           126000.0    206271.0      19512.0         193500.0   \n\n        REGION_POPULATION_RELATIVE  DAYS_BIRTH  ...  \\\n280616                    0.019101      -10005  ...   \n147879                    0.019689       -9850  ...   \n101811                    0.018634      -19088  ...   \n248338                    0.009657      -20133  ...   \n160567                    0.030755      -19432  ...   \n...                            ...         ...  ...   \n19147                     0.004849      -23108  ...   \n79014                     0.009657      -21997  ...   \n219308                    0.035792      -10511  ...   \n136835                    0.025164      -17134  ...   \n20062                     0.018850      -21712  ...   \n\n        CC_NAME_CONTRACT_STATUS_Signed_MAX  \\\n280616                                 0.0   \n147879                                 NaN   \n101811                                 NaN   \n248338                                 NaN   \n160567                                 NaN   \n...                                    ...   \n19147                                  NaN   \n79014                                  NaN   \n219308                                 NaN   \n136835                                 0.0   \n20062                                  0.0   \n\n        CC_NAME_CONTRACT_STATUS_Signed_MEAN  \\\n280616                                  0.0   \n147879                                  NaN   \n101811                                  NaN   \n248338                                  NaN   \n160567                                  NaN   \n...                                     ...   \n19147                                   NaN   \n79014                                   NaN   \n219308                                  NaN   \n136835                                  0.0   \n20062                                   0.0   \n\n        CC_NAME_CONTRACT_STATUS_Signed_SUM  \\\n280616                                 0.0   \n147879                                 NaN   \n101811                                 NaN   \n248338                                 NaN   \n160567                                 NaN   \n...                                    ...   \n19147                                  NaN   \n79014                                  NaN   \n219308                                 NaN   \n136835                                 0.0   \n20062                                  0.0   \n\n        CC_NAME_CONTRACT_STATUS_Signed_VAR  CC_NAME_CONTRACT_STATUS_nan_MIN  \\\n280616                                 0.0                              0.0   \n147879                                 NaN                              NaN   \n101811                                 NaN                              NaN   \n248338                                 NaN                              NaN   \n160567                                 NaN                              NaN   \n...                                    ...                              ...   \n19147                                  NaN                              NaN   \n79014                                  NaN                              NaN   \n219308                                 NaN                              NaN   \n136835                                 0.0                              0.0   \n20062                                  0.0                              0.0   \n\n        CC_NAME_CONTRACT_STATUS_nan_MAX  CC_NAME_CONTRACT_STATUS_nan_MEAN  \\\n280616                              0.0                               0.0   \n147879                              NaN                               NaN   \n101811                              NaN                               NaN   \n248338                              NaN                               NaN   \n160567                              NaN                               NaN   \n...                                 ...                               ...   \n19147                               NaN                               NaN   \n79014                               NaN                               NaN   \n219308                              NaN                               NaN   \n136835                              0.0                               0.0   \n20062                               0.0                               0.0   \n\n        CC_NAME_CONTRACT_STATUS_nan_SUM  CC_NAME_CONTRACT_STATUS_nan_VAR  \\\n280616                              0.0                              0.0   \n147879                              NaN                              NaN   \n101811                              NaN                              NaN   \n248338                              NaN                              NaN   \n160567                              NaN                              NaN   \n...                                 ...                              ...   \n19147                               NaN                              NaN   \n79014                               NaN                              NaN   \n219308                              NaN                              NaN   \n136835                              0.0                              0.0   \n20062                               0.0                              0.0   \n\n        CC_COUNT  \n280616       6.0  \n147879       NaN  \n101811       NaN  \n248338       NaN  \n160567       NaN  \n...          ...  \n19147        NaN  \n79014        NaN  \n219308       NaN  \n136835      31.0  \n20062       26.0  \n\n[92253 rows x 795 columns]",
      "text/html": "<div>\n<style scoped>\n    .dataframe tbody tr th:only-of-type {\n        vertical-align: middle;\n    }\n\n    .dataframe tbody tr th {\n        vertical-align: top;\n    }\n\n    .dataframe thead th {\n        text-align: right;\n    }\n</style>\n<table border=\"1\" class=\"dataframe\">\n  <thead>\n    <tr style=\"text-align: right;\">\n      <th></th>\n      <th>CODE_GENDER</th>\n      <th>FLAG_OWN_CAR</th>\n      <th>FLAG_OWN_REALTY</th>\n      <th>CNT_CHILDREN</th>\n      <th>AMT_INCOME_TOTAL</th>\n      <th>AMT_CREDIT</th>\n      <th>AMT_ANNUITY</th>\n      <th>AMT_GOODS_PRICE</th>\n      <th>REGION_POPULATION_RELATIVE</th>\n      <th>DAYS_BIRTH</th>\n      <th>...</th>\n      <th>CC_NAME_CONTRACT_STATUS_Signed_MAX</th>\n      <th>CC_NAME_CONTRACT_STATUS_Signed_MEAN</th>\n      <th>CC_NAME_CONTRACT_STATUS_Signed_SUM</th>\n      <th>CC_NAME_CONTRACT_STATUS_Signed_VAR</th>\n      <th>CC_NAME_CONTRACT_STATUS_nan_MIN</th>\n      <th>CC_NAME_CONTRACT_STATUS_nan_MAX</th>\n      <th>CC_NAME_CONTRACT_STATUS_nan_MEAN</th>\n      <th>CC_NAME_CONTRACT_STATUS_nan_SUM</th>\n      <th>CC_NAME_CONTRACT_STATUS_nan_VAR</th>\n      <th>CC_COUNT</th>\n    </tr>\n  </thead>\n  <tbody>\n    <tr>\n      <th>280616</th>\n      <td>0</td>\n      <td>1</td>\n      <td>1</td>\n      <td>0</td>\n      <td>112500.0</td>\n      <td>314100.0</td>\n      <td>11767.5</td>\n      <td>225000.0</td>\n      <td>0.019101</td>\n      <td>-10005</td>\n      <td>...</td>\n      <td>0.0</td>\n      <td>0.0</td>\n      <td>0.0</td>\n      <td>0.0</td>\n      <td>0.0</td>\n      <td>0.0</td>\n      <td>0.0</td>\n      <td>0.0</td>\n      <td>0.0</td>\n      <td>6.0</td>\n    </tr>\n    <tr>\n      <th>147879</th>\n      <td>0</td>\n      <td>0</td>\n      <td>0</td>\n      <td>0</td>\n      <td>450000.0</td>\n      <td>900000.0</td>\n      <td>85455.0</td>\n      <td>900000.0</td>\n      <td>0.019689</td>\n      <td>-9850</td>\n      <td>...</td>\n      <td>NaN</td>\n      <td>NaN</td>\n      <td>NaN</td>\n      <td>NaN</td>\n      <td>NaN</td>\n      <td>NaN</td>\n      <td>NaN</td>\n      <td>NaN</td>\n      <td>NaN</td>\n      <td>NaN</td>\n    </tr>\n    <tr>\n      <th>101811</th>\n      <td>1</td>\n      <td>0</td>\n      <td>0</td>\n      <td>0</td>\n      <td>270000.0</td>\n      <td>528633.0</td>\n      <td>25560.0</td>\n      <td>472500.0</td>\n      <td>0.018634</td>\n      <td>-19088</td>\n      <td>...</td>\n      <td>NaN</td>\n      <td>NaN</td>\n      <td>NaN</td>\n      <td>NaN</td>\n      <td>NaN</td>\n      <td>NaN</td>\n      <td>NaN</td>\n      <td>NaN</td>\n      <td>NaN</td>\n      <td>NaN</td>\n    </tr>\n    <tr>\n      <th>248338</th>\n      <td>1</td>\n      <td>0</td>\n      <td>0</td>\n      <td>0</td>\n      <td>81000.0</td>\n      <td>463500.0</td>\n      <td>31099.5</td>\n      <td>463500.0</td>\n      <td>0.009657</td>\n      <td>-20133</td>\n      <td>...</td>\n      <td>NaN</td>\n      <td>NaN</td>\n      <td>NaN</td>\n      <td>NaN</td>\n      <td>NaN</td>\n      <td>NaN</td>\n      <td>NaN</td>\n      <td>NaN</td>\n      <td>NaN</td>\n      <td>NaN</td>\n    </tr>\n    <tr>\n      <th>160567</th>\n      <td>1</td>\n      <td>0</td>\n      <td>0</td>\n      <td>0</td>\n      <td>315000.0</td>\n      <td>1129500.0</td>\n      <td>33156.0</td>\n      <td>1129500.0</td>\n      <td>0.030755</td>\n      <td>-19432</td>\n      <td>...</td>\n      <td>NaN</td>\n      <td>NaN</td>\n      <td>NaN</td>\n      <td>NaN</td>\n      <td>NaN</td>\n      <td>NaN</td>\n      <td>NaN</td>\n      <td>NaN</td>\n      <td>NaN</td>\n      <td>NaN</td>\n    </tr>\n    <tr>\n      <th>...</th>\n      <td>...</td>\n      <td>...</td>\n      <td>...</td>\n      <td>...</td>\n      <td>...</td>\n      <td>...</td>\n      <td>...</td>\n      <td>...</td>\n      <td>...</td>\n      <td>...</td>\n      <td>...</td>\n      <td>...</td>\n      <td>...</td>\n      <td>...</td>\n      <td>...</td>\n      <td>...</td>\n      <td>...</td>\n      <td>...</td>\n      <td>...</td>\n      <td>...</td>\n      <td>...</td>\n    </tr>\n    <tr>\n      <th>19147</th>\n      <td>0</td>\n      <td>0</td>\n      <td>0</td>\n      <td>0</td>\n      <td>207000.0</td>\n      <td>630000.0</td>\n      <td>31500.0</td>\n      <td>630000.0</td>\n      <td>0.004849</td>\n      <td>-23108</td>\n      <td>...</td>\n      <td>NaN</td>\n      <td>NaN</td>\n      <td>NaN</td>\n      <td>NaN</td>\n      <td>NaN</td>\n      <td>NaN</td>\n      <td>NaN</td>\n      <td>NaN</td>\n      <td>NaN</td>\n      <td>NaN</td>\n    </tr>\n    <tr>\n      <th>79014</th>\n      <td>1</td>\n      <td>0</td>\n      <td>0</td>\n      <td>0</td>\n      <td>112500.0</td>\n      <td>571446.0</td>\n      <td>18562.5</td>\n      <td>477000.0</td>\n      <td>0.009657</td>\n      <td>-21997</td>\n      <td>...</td>\n      <td>NaN</td>\n      <td>NaN</td>\n      <td>NaN</td>\n      <td>NaN</td>\n      <td>NaN</td>\n      <td>NaN</td>\n      <td>NaN</td>\n      <td>NaN</td>\n      <td>NaN</td>\n      <td>NaN</td>\n    </tr>\n    <tr>\n      <th>219308</th>\n      <td>0</td>\n      <td>0</td>\n      <td>1</td>\n      <td>0</td>\n      <td>180000.0</td>\n      <td>288562.5</td>\n      <td>19413.0</td>\n      <td>261000.0</td>\n      <td>0.035792</td>\n      <td>-10511</td>\n      <td>...</td>\n      <td>NaN</td>\n      <td>NaN</td>\n      <td>NaN</td>\n      <td>NaN</td>\n      <td>NaN</td>\n      <td>NaN</td>\n      <td>NaN</td>\n      <td>NaN</td>\n      <td>NaN</td>\n      <td>NaN</td>\n    </tr>\n    <tr>\n      <th>136835</th>\n      <td>0</td>\n      <td>1</td>\n      <td>0</td>\n      <td>0</td>\n      <td>630000.0</td>\n      <td>990000.0</td>\n      <td>42075.0</td>\n      <td>990000.0</td>\n      <td>0.025164</td>\n      <td>-17134</td>\n      <td>...</td>\n      <td>0.0</td>\n      <td>0.0</td>\n      <td>0.0</td>\n      <td>0.0</td>\n      <td>0.0</td>\n      <td>0.0</td>\n      <td>0.0</td>\n      <td>0.0</td>\n      <td>0.0</td>\n      <td>31.0</td>\n    </tr>\n    <tr>\n      <th>20062</th>\n      <td>1</td>\n      <td>0</td>\n      <td>0</td>\n      <td>0</td>\n      <td>126000.0</td>\n      <td>206271.0</td>\n      <td>19512.0</td>\n      <td>193500.0</td>\n      <td>0.018850</td>\n      <td>-21712</td>\n      <td>...</td>\n      <td>0.0</td>\n      <td>0.0</td>\n      <td>0.0</td>\n      <td>0.0</td>\n      <td>0.0</td>\n      <td>0.0</td>\n      <td>0.0</td>\n      <td>0.0</td>\n      <td>0.0</td>\n      <td>26.0</td>\n    </tr>\n  </tbody>\n</table>\n<p>92253 rows × 795 columns</p>\n</div>"
     },
     "execution_count": 122,
     "metadata": {},
     "output_type": "execute_result"
    }
   ],
   "source": [
    "X_test.iloc[:, 1:]"
   ],
   "metadata": {
    "collapsed": false,
    "pycharm": {
     "name": "#%%\n"
    }
   }
  },
  {
   "cell_type": "code",
   "execution_count": 135,
   "outputs": [],
   "source": [
    "y_pred = clf_joblib.predict_proba(X_test.iloc[:, 1:])[:, 1] # we remove the ID and we take the predict for the class 1"
   ],
   "metadata": {
    "collapsed": false,
    "pycharm": {
     "name": "#%%\n"
    }
   }
  },
  {
   "cell_type": "code",
   "execution_count": 136,
   "outputs": [
    {
     "data": {
      "text/plain": "array([0.02187136, 0.02672653, 0.03682308, ..., 0.18987261, 0.05676274,\n       0.01302819])"
     },
     "execution_count": 136,
     "metadata": {},
     "output_type": "execute_result"
    }
   ],
   "source": [
    "y_pred"
   ],
   "metadata": {
    "collapsed": false,
    "pycharm": {
     "name": "#%%\n"
    }
   }
  },
  {
   "cell_type": "code",
   "execution_count": 137,
   "outputs": [],
   "source": [
    "# metrics\n",
    "from sklearn.metrics import roc_curve, auc, confusion_matrix"
   ],
   "metadata": {
    "collapsed": false,
    "pycharm": {
     "name": "#%%\n"
    }
   }
  },
  {
   "cell_type": "code",
   "execution_count": null,
   "outputs": [],
   "source": [],
   "metadata": {
    "collapsed": false,
    "pycharm": {
     "name": "#%%\n"
    }
   }
  },
  {
   "cell_type": "code",
   "execution_count": 24,
   "outputs": [
    {
     "ename": "TypeError",
     "evalue": "'module' object is not callable",
     "output_type": "error",
     "traceback": [
      "\u001B[1;31m---------------------------------------------------------------------------\u001B[0m",
      "\u001B[1;31mTypeError\u001B[0m                                 Traceback (most recent call last)",
      "\u001B[1;32m~\\AppData\\Local\\Temp/ipykernel_13976/391475530.py\u001B[0m in \u001B[0;36m<module>\u001B[1;34m\u001B[0m\n\u001B[0;32m      1\u001B[0m \u001B[1;31m# End of notebook time\u001B[0m\u001B[1;33m\u001B[0m\u001B[1;33m\u001B[0m\u001B[0m\n\u001B[1;32m----> 2\u001B[1;33m \u001B[0mt1\u001B[0m \u001B[1;33m=\u001B[0m \u001B[0mtime\u001B[0m\u001B[1;33m(\u001B[0m\u001B[1;33m)\u001B[0m\u001B[1;33m\u001B[0m\u001B[1;33m\u001B[0m\u001B[0m\n\u001B[0m\u001B[0;32m      3\u001B[0m \u001B[0mprint\u001B[0m\u001B[1;33m(\u001B[0m\u001B[1;34m\"computing time : {:8.6f} sec\"\u001B[0m\u001B[1;33m.\u001B[0m\u001B[0mformat\u001B[0m\u001B[1;33m(\u001B[0m\u001B[0mt1\u001B[0m \u001B[1;33m-\u001B[0m \u001B[0mt0\u001B[0m\u001B[1;33m)\u001B[0m\u001B[1;33m)\u001B[0m\u001B[1;33m\u001B[0m\u001B[1;33m\u001B[0m\u001B[0m\n\u001B[0;32m      4\u001B[0m \u001B[0mprint\u001B[0m\u001B[1;33m(\u001B[0m\u001B[1;34m\"computing time : \"\u001B[0m \u001B[1;33m+\u001B[0m \u001B[0mstrftime\u001B[0m\u001B[1;33m(\u001B[0m\u001B[1;34m'%H:%M:%S'\u001B[0m\u001B[1;33m,\u001B[0m \u001B[0mgmtime\u001B[0m\u001B[1;33m(\u001B[0m\u001B[0mt1\u001B[0m \u001B[1;33m-\u001B[0m \u001B[0mt0\u001B[0m\u001B[1;33m)\u001B[0m\u001B[1;33m)\u001B[0m\u001B[1;33m)\u001B[0m\u001B[1;33m\u001B[0m\u001B[1;33m\u001B[0m\u001B[0m\n",
      "\u001B[1;31mTypeError\u001B[0m: 'module' object is not callable"
     ]
    }
   ],
   "source": [
    "# End of notebook time\n",
    "t1 = time()\n",
    "print(\"computing time : {:8.6f} sec\".format(t1 - t0))\n",
    "print(\"computing time : \" + strftime('%H:%M:%S', gmtime(t1 - t0)))"
   ],
   "metadata": {
    "collapsed": false,
    "pycharm": {
     "name": "#%%\n"
    }
   }
  }
 ],
 "metadata": {
  "kernelspec": {
   "display_name": "Python 3",
   "language": "python",
   "name": "python3"
  },
  "language_info": {
   "codemirror_mode": {
    "name": "ipython",
    "version": 2
   },
   "file_extension": ".py",
   "mimetype": "text/x-python",
   "name": "python",
   "nbconvert_exporter": "python",
   "pygments_lexer": "ipython2",
   "version": "2.7.6"
  }
 },
 "nbformat": 4,
 "nbformat_minor": 0
}